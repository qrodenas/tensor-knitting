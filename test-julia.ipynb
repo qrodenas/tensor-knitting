{
 "cells": [
  {
   "cell_type": "code",
   "execution_count": 5,
   "id": "eb4893c1",
   "metadata": {},
   "outputs": [],
   "source": [
    "\n",
    "using ITensors\n",
    "using PastaQ\n",
    "using ITensorGLMakie\n",
    "# using ITensorUnicodePlots\n",
    "using JuliaFormatter"
   ]
  },
  {
   "cell_type": "code",
   "execution_count": null,
   "id": "33250457",
   "metadata": {},
   "outputs": [],
   "source": [
    "enable_format(latex_symbols=true)"
   ]
  },
  {
   "cell_type": "markdown",
   "id": "e0b48e43",
   "metadata": {},
   "source": [
    "## Creating a one-site state\n",
    "We will now create some simple one-site states and operators using the ITensor library."
   ]
  },
  {
   "cell_type": "code",
   "execution_count": null,
   "id": "cfe69531",
   "metadata": {},
   "outputs": [],
   "source": [
    "\n",
    "# Define a 2-dimensional Hilbert space with index i\n",
    "i = Index(2)\n",
    "\n",
    "# Create the |Z+> state\n",
    "Zp = ITensor([1, 0], i)\n",
    "Zp\n"
   ]
  },
  {
   "cell_type": "markdown",
   "id": "2adb9466",
   "metadata": {},
   "source": [
    "## Creating the |Z-> and |X±> states"
   ]
  },
  {
   "cell_type": "code",
   "execution_count": null,
   "id": "6ace3235",
   "metadata": {},
   "outputs": [],
   "source": [
    "\n",
    "Zm = ITensor([0, 1], i)\n",
    "Xp = ITensor([1, 1]/√2, i)\n",
    "Xm = ITensor([1, -1]/√2, i)\n",
    "\n",
    "# Display the states\n",
    "(Zm, Xp, Xm)\n"
   ]
  },
  {
   "cell_type": "markdown",
   "id": "77b70433",
   "metadata": {},
   "source": [
    "## Inner product and state manipulations\n",
    "We can now calculate inner products and manipulate states."
   ]
  },
  {
   "cell_type": "code",
   "execution_count": null,
   "id": "f715dbb8",
   "metadata": {},
   "outputs": [],
   "source": [
    "\n",
    "# Calculate inner product between |Z+> and |X+>\n",
    "inner_product = (dag(Zp) * Xp)[]\n",
    "inner_product\n"
   ]
  },
  {
   "cell_type": "markdown",
   "id": "f32d26e7",
   "metadata": {},
   "source": [
    "## Visualization\n",
    "Use UnicodePlots for simple visualization of the tensors."
   ]
  },
  {
   "cell_type": "code",
   "execution_count": null,
   "id": "0bbac9a8",
   "metadata": {},
   "outputs": [],
   "source": [
    "\n",
    "# Visualize the inner product\n",
    "@visualize dag(Zp) * Xp\n"
   ]
  },
  {
   "cell_type": "markdown",
   "id": "1793a445",
   "metadata": {},
   "source": [
    "## Priming indices and using operators"
   ]
  },
  {
   "cell_type": "code",
   "execution_count": null,
   "id": "f0fcff59",
   "metadata": {},
   "outputs": [],
   "source": [
    "\n",
    "# Prime the index i and check the difference\n",
    "i_prime = prime(i)\n",
    "Z = ITensor(i_prime, i)\n",
    "Z[i_prime=>1, i=>1] = 1\n",
    "Z[i_prime=>2, i=>2] = -1\n",
    "Z"
   ]
  },
  {
   "cell_type": "markdown",
   "id": "b8ec6d70",
   "metadata": {},
   "source": [
    "## Applying operators\n",
    "Let's apply operators to states and observe the results."
   ]
  },
  {
   "cell_type": "code",
   "execution_count": null,
   "id": "288260b3",
   "metadata": {},
   "outputs": [],
   "source": [
    "\n",
    "# Applying X operator to |Z+>\n",
    "i = Index(2, \"S=1/2\")\n",
    "Zp = state(\"Zp\",i)\n",
    "Zm = state(\"Zm\",i)\n",
    "X = op(\"X\", i)\n",
    "Zp_applied = X * Zp\n",
    "Zp_applied\n"
   ]
  },
  {
   "cell_type": "code",
   "execution_count": null,
   "id": "f5b0351f",
   "metadata": {},
   "outputs": [],
   "source": [
    "(dag(Zm)' * X * Zp)[]"
   ]
  },
  {
   "cell_type": "code",
   "execution_count": null,
   "id": "5da0cf06",
   "metadata": {},
   "outputs": [],
   "source": [
    "apply(X,Zp) == noprime(X * Zp)"
   ]
  },
  {
   "cell_type": "markdown",
   "id": "449cf08e",
   "metadata": {},
   "source": [
    "## Multi-site states\n",
    "We will now create and work with two-site states."
   ]
  },
  {
   "cell_type": "code",
   "execution_count": null,
   "id": "1db31ded",
   "metadata": {},
   "outputs": [],
   "source": [
    "\n",
    "# Create two-site indices\n",
    "i1 = Index(2, \"S=1/2,i1\")\n",
    "i2 = Index(2, \"S=1/2,i2\")\n",
    "\n",
    "# Create a two-site state |Z+Z->\n",
    "Zp1 = state(\"Zp\", i1)\n",
    "Zp2 = state(\"Zp\", i2)\n",
    "Zm2 = state(\"Zm\", i2)\n",
    "Zm1 = state(\"Zm\",i1)\n",
    "# Los hemos definido con indices distintos así que juntarlos es como un producto tensorial\n",
    "ZpZm = Zp1 * Zm2\n",
    "ZpZm2 = ITensor(i1,i2)\n",
    "ZpZm2[i1=>1,i2=>2] = 1\n",
    "ZpZm == ZpZm2\n"
   ]
  },
  {
   "cell_type": "code",
   "execution_count": null,
   "id": "ab7ee037",
   "metadata": {},
   "outputs": [],
   "source": [
    "ψ = ITensor(i1,i2)\n",
    "ψ[i1=>1, i2=>2] = 1/sqrt(2)\n",
    "ψ[i1=>2, i2=>1] = 1/sqrt(2)\n",
    "ψ2 = (Zm1*Zp2 + Zm2*Zp1)/sqrt(2)"
   ]
  },
  {
   "cell_type": "code",
   "execution_count": null,
   "id": "2e37e285",
   "metadata": {},
   "outputs": [],
   "source": [
    "ψ2 == ψ"
   ]
  },
  {
   "cell_type": "markdown",
   "id": "81cf643d",
   "metadata": {},
   "source": [
    "## Performing SVD and Tensor Factorizations\n",
    "We can use Singular Value Decomposition (SVD) to factorize tensors."
   ]
  },
  {
   "cell_type": "code",
   "execution_count": null,
   "id": "bfbbb8ba",
   "metadata": {},
   "outputs": [],
   "source": [
    "\n",
    "# Perform SVD on the two-site state ZpZm\n",
    "_, S, _ = svd(ZpZm, i1) #Why here we write index i1?\n",
    "diag(S)  # Show the singular values\n"
   ]
  },
  {
   "cell_type": "markdown",
   "id": "d280af95",
   "metadata": {},
   "source": [
    "Let's try now the SVD of one of the bell states. S should be S = [1/√2,  1/√2]"
   ]
  },
  {
   "cell_type": "code",
   "execution_count": 18,
   "id": "2fc13e04",
   "metadata": {},
   "outputs": [],
   "source": [
    "ψ2 = (Zm1*Zp2 + Zp1*Zm2)/√2\n",
    "_,S,_ = svd(ψ2, i1);"
   ]
  },
  {
   "cell_type": "code",
   "execution_count": null,
   "id": "08c4500f",
   "metadata": {},
   "outputs": [],
   "source": [
    "display(matrix(S))"
   ]
  },
  {
   "cell_type": "markdown",
   "id": "1aad3514",
   "metadata": {},
   "source": [
    "## Working with Hamiltonians\n",
    "Now we will define a simple two-site Hamiltonian."
   ]
  },
  {
   "cell_type": "code",
   "execution_count": null,
   "id": "a1cbe119",
   "metadata": {},
   "outputs": [],
   "source": [
    "Id1 = op(\"Id\",i1)\n",
    "Z1 = op(\"Z\",i1)\n",
    "X1 = op(\"X\",i1)\n",
    "Id2 = op(\"Id\",i2)\n",
    "Z2 = op(\"Z\",i2)\n",
    "X2 = op(\"X\",i2)\n",
    "ZZ = Z1*Z2\n",
    "XI = X1*Id2\n",
    "IX = Id1*X2\n",
    "\n",
    "h = 0.5\n",
    "H = -ZZ + h*(XI + IX)"
   ]
  },
  {
   "cell_type": "code",
   "execution_count": null,
   "id": "da4159c3",
   "metadata": {},
   "outputs": [],
   "source": [
    "inner_product = inner(Zp1' * Zm2', H, Zp1 * Zm2)\n",
    "inner_product"
   ]
  },
  {
   "cell_type": "code",
   "execution_count": null,
   "id": "54048a71",
   "metadata": {},
   "outputs": [],
   "source": [
    "inner(Zp1'*Zp2', H, Zp1*Zp2)"
   ]
  },
  {
   "cell_type": "code",
   "execution_count": null,
   "id": "d71fdbdb",
   "metadata": {},
   "outputs": [],
   "source": [
    "D,_ = eigen(H)\n",
    "real(diag(D))"
   ]
  },
  {
   "cell_type": "markdown",
   "id": "31ac3e09",
   "metadata": {},
   "source": [
    "## Custom two site operator \n",
    "We are going to define the RXX gate we will need sometime"
   ]
  },
  {
   "cell_type": "code",
   "execution_count": null,
   "id": "76d5b368",
   "metadata": {},
   "outputs": [],
   "source": [
    "\n",
    "import ITensors:op\n",
    "function op(\n",
    "    ::OpName\"RXX\",\n",
    "    ::SiteType\"S=1/2\";θ)\n",
    "    c = cos(θ/2)\n",
    "    s = sin(θ/2)\n",
    "    return [\n",
    "        c 0 0 -im*s\n",
    "        0 c -im*s 0\n",
    "        0 -im*s c 0\n",
    "        -im*s 0 0 c]\n",
    "end"
   ]
  },
  {
   "cell_type": "code",
   "execution_count": null,
   "id": "3dee1740",
   "metadata": {},
   "outputs": [],
   "source": [
    "RXX = op(\"RXX\", i1,i2,θ = pi/2)\n",
    "@visualize RXX"
   ]
  },
  {
   "cell_type": "markdown",
   "id": "05990f91",
   "metadata": {},
   "source": [
    "## Defining density matrices\n"
   ]
  },
  {
   "cell_type": "code",
   "execution_count": null,
   "id": "6d368957",
   "metadata": {},
   "outputs": [],
   "source": [
    "ψ = (Zp1*Zp2+Zm1*Zm2)/sqrt(2)\n",
    "@visualize ψ   "
   ]
  },
  {
   "cell_type": "code",
   "execution_count": null,
   "id": "2e9fb227",
   "metadata": {},
   "outputs": [],
   "source": [
    "ρ = ψ*dag(ψ')"
   ]
  },
  {
   "cell_type": "code",
   "execution_count": null,
   "id": "11136b4e",
   "metadata": {},
   "outputs": [],
   "source": [
    "n = 5\n",
    "i = [Index(2,\"S=1/2\")\n",
    "    for j in 1:n];\n",
    "\n",
    "Zp = MPS(i, \"Zp\");\n",
    "Zm = MPS(i, \"Zm\");\n",
    "\n",
    "maxlinkdim(Zp) == 1"
   ]
  },
  {
   "cell_type": "code",
   "execution_count": null,
   "id": "95e7e46e",
   "metadata": {},
   "outputs": [],
   "source": [
    "ψ2 = (Zp + Zm)/√2\n",
    "maxlinkdim(ψ2)\n",
    "@visualize ψ2"
   ]
  },
  {
   "cell_type": "code",
   "execution_count": null,
   "id": "1ae0b8df",
   "metadata": {},
   "outputs": [],
   "source": [
    "inner(Zp,Zp)"
   ]
  },
  {
   "cell_type": "code",
   "execution_count": null,
   "id": "616d492f",
   "metadata": {},
   "outputs": [],
   "source": []
  }
 ],
 "metadata": {
  "kernelspec": {
   "display_name": "Julia 1.10.5",
   "language": "julia",
   "name": "julia-1.10"
  },
  "language_info": {
   "file_extension": ".jl",
   "mimetype": "application/julia",
   "name": "julia",
   "version": "1.10.5"
  }
 },
 "nbformat": 4,
 "nbformat_minor": 5
}
