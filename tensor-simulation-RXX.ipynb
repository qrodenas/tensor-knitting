{
 "cells": [
  {
   "cell_type": "code",
   "execution_count": 421,
   "metadata": {},
   "outputs": [],
   "source": [
    "using ITensors\n",
    "using ITensorMPS\n",
    "using ITensorGLMakie"
   ]
  },
  {
   "cell_type": "markdown",
   "metadata": {},
   "source": [
    "First we are going to define the two qubits. We want general product states $\\ket{\\psi_a}\\otimes \\ket{\\psi_b}$"
   ]
  },
  {
   "cell_type": "code",
   "execution_count": 422,
   "metadata": {},
   "outputs": [],
   "source": [
    "αa = 1; βa = 1; # First qubit parameters\n",
    "αb = 0; βb = 1; # Second qubit parameters\n",
    "\n",
    "ia = Index(2, \"Qubit,i1\");\n",
    "ib = Index(2, \"Qubit,i2\");\n",
    "\n",
    "\n",
    "ket0a = state(\"0\",ia);\n",
    "ket0b = state(\"0\",ib);\n",
    "ket1a = state(\"1\",ia);\n",
    "ket1b = state(\"1\",ib);\n",
    "\n",
    "# Define qubit states\n",
    "ψa = normalize(αa*ket0a + βa*ket1a);\n",
    "ψb = normalize(αb*ket0b + βb*ket1b);\n",
    "\n",
    "# Compute the product state\n",
    "ψ = ψa * ψb;"
   ]
  },
  {
   "cell_type": "markdown",
   "metadata": {},
   "source": [
    "Compute density matrix and transform to MPS"
   ]
  },
  {
   "cell_type": "code",
   "execution_count": 423,
   "metadata": {},
   "outputs": [
    {
     "data": {
      "text/plain": [
       "MPO\n",
       "[1] ((dim=2|id=399|\"Qubit,i1\"), (dim=2|id=924|\"Link,n=1\"))\n",
       "[2] ((dim=2|id=924|\"Link,n=1\"), (dim=2|id=594|\"Qubit,i2\"), (dim=2|id=399|\"Qubit,i1\")', (dim=2|id=594|\"Qubit,i2\")')\n"
      ]
     },
     "execution_count": 423,
     "metadata": {},
     "output_type": "execute_result"
    }
   ],
   "source": [
    "# Density matrix:\n",
    "ρ = ψ * dag(ψ')\n",
    "\n",
    "#Transform to MPS (Probably it's better to start with MPS instead of converting)\n",
    "sites = (ia, ib)\n",
    "\n",
    "ρMPO = toMPO(ρ, sites)"
   ]
  },
  {
   "cell_type": "code",
   "execution_count": 424,
   "metadata": {},
   "outputs": [
    {
     "data": {
      "text/plain": [
       "nothing"
      ]
     },
     "metadata": {},
     "output_type": "display_data"
    },
    {
     "data": {
      "text/plain": [
       "MPO\n",
       "[1] ((dim=2|id=399|\"Qubit,i1\"), (dim=2|id=924|\"Link,n=1\"))\n",
       "[2] ((dim=2|id=924|\"Link,n=1\"), (dim=2|id=594|\"Qubit,i2\"), (dim=2|id=399|\"Qubit,i1\")', (dim=2|id=594|\"Qubit,i2\")')\n"
      ]
     },
     "execution_count": 424,
     "metadata": {},
     "output_type": "execute_result"
    }
   ],
   "source": [
    "@visualize ρMPO # Why I cannot visualize?"
   ]
  },
  {
   "cell_type": "markdown",
   "metadata": {},
   "source": [
    "Now I will define the quantum channels. We can define the Kraus ops with indices ia,ib,ia',ib'"
   ]
  },
  {
   "cell_type": "code",
   "execution_count": 425,
   "metadata": {},
   "outputs": [],
   "source": [
    "# First define the operators we need\n",
    "Ida = op(\"Id\",ia);\n",
    "Idb = op(\"Id\",ib);\n",
    "Xa = op(\"X\",ia);\n",
    "Xb = op(\"X\",ib);\n",
    "Ya = op(\"Y\",ia);\n",
    "Yb = op(\"Y\",ib);\n",
    "Za = op(\"Z\",ia);\n",
    "Zb = op(\"Z\",ib);\n",
    "\n",
    "projPPa = (Ida + Xa)/ 2; # projPP and projMM are the projectors on the plus and minus states (X eigenstates)\n",
    "projPPb = (Idb + Xb)/ 2;\n",
    "projMMa = (Ida - Xa)/ 2;\n",
    "projMMb = (Idb - Xb)/ 2;\n",
    "\n",
    "Sa = op(\"S\",ia);\n",
    "Sb = op(\"S\",ib);"
   ]
  },
  {
   "cell_type": "code",
   "execution_count": 426,
   "metadata": {},
   "outputs": [
    {
     "data": {
      "text/plain": [
       "MPO\n",
       "[1] ((dim=2|id=399|\"Qubit,i1\")', (dim=2|id=399|\"Qubit,i1\"))\n",
       "[2] ((dim=2|id=594|\"Qubit,i2\")', (dim=2|id=594|\"Qubit,i2\"))\n"
      ]
     },
     "execution_count": 426,
     "metadata": {},
     "output_type": "execute_result"
    }
   ],
   "source": [
    "# Now we define the MPOs (not sure if this is needed)\n",
    "sites = [ia,ib]\n",
    "\n",
    "II = MPO(sites)\n",
    "II[1] = Ida\n",
    "II[2] = Idb\n",
    "\n",
    "XX = MPO(sites)\n",
    "XX[1] = Xa\n",
    "XX[2] = Xb\n",
    "\n",
    "ZZ = MPO(sites)\n",
    "ZZ[1] = Za\n",
    "ZZ[2] = Zb\n",
    "\n",
    "ch = Array{MPO}(undef,8)\n",
    "for i in 1:8\n",
    "    ch[i] = MPO(sites)\n",
    "end\n",
    "\n",
    "ch[1][1] = projPPa    \n",
    "ch[1][2] = dag(Sb)\n",
    "\n",
    "ch[2][1] = dag(Sa)\n",
    "ch[2][2] = projPPb    \n",
    "\n",
    "ch[3][1] = projPPa    \n",
    "ch[3][2] = Sb       \n",
    "\n",
    "ch[4][1] = Sa\n",
    "ch[4][2] = projPPb    \n",
    "\n",
    "ch[5][1] = projMMa    \n",
    "ch[5][2] = dag(Sb)\n",
    "\n",
    "ch[6][1] = dag(Sa)\n",
    "ch[6][2] = projMMb    \n",
    "\n",
    "ch[7][1] = projMMa    \n",
    "ch[7][2] = Sb       \n",
    "\n",
    "ch[8][1] = Sa\n",
    "ch[8][2] = projMMb;\n",
    "XX"
   ]
  },
  {
   "cell_type": "code",
   "execution_count": 427,
   "metadata": {},
   "outputs": [],
   "source": [
    "ch[1] = replaceprime(ch[1], (0 => 2))\n",
    "ch[2] = replaceprime(ch[2], (0 => 2))\n",
    "ch[3] = replaceprime(ch[3], (0 => 2))\n",
    "ch[4] = replaceprime(ch[4], (0 => 2))\n",
    "ch[5] = replaceprime(ch[5], (0 => 2))\n",
    "ch[6] = replaceprime(ch[6], (0 => 2))\n",
    "ch[7] = replaceprime(ch[7], (0 => 2))\n",
    "ch[8] = replaceprime(ch[8], (0 => 2))\n",
    "signsch = [1,1,-1,-1,-1,-1,1,1]\n",
    "\n",
    "II = replaceprime(II, (0 => 2))\n",
    "XX = replaceprime(XX, (0 => 2));\n",
    "\n"
   ]
  },
  {
   "cell_type": "code",
   "execution_count": 428,
   "metadata": {},
   "outputs": [
    {
     "data": {
      "text/plain": [
       "MPO\n",
       "[1] ((dim=2|id=399|\"Qubit,i1\")', (dim=2|id=399|\"Qubit,i1\")'')\n",
       "[2] ((dim=2|id=594|\"Qubit,i2\")', (dim=2|id=594|\"Qubit,i2\")'')\n"
      ]
     },
     "execution_count": 428,
     "metadata": {},
     "output_type": "execute_result"
    }
   ],
   "source": [
    "XX"
   ]
  },
  {
   "cell_type": "code",
   "execution_count": 429,
   "metadata": {},
   "outputs": [
    {
     "data": {
      "text/plain": [
       "MPO\n",
       "[1] ((dim=2|id=399|\"Qubit,i1\"), (dim=2|id=399|\"Qubit,i1\")', (dim=1|id=396|\"Link,l=1\"))\n",
       "[2] ((dim=2|id=594|\"Qubit,i2\"), (dim=2|id=594|\"Qubit,i2\")', (dim=1|id=396|\"Link,l=1\"))\n"
      ]
     },
     "execution_count": 429,
     "metadata": {},
     "output_type": "execute_result"
    }
   ],
   "source": [
    "XX*ρMPO*XX"
   ]
  },
  {
   "cell_type": "code",
   "execution_count": 430,
   "metadata": {},
   "outputs": [
    {
     "data": {
      "text/plain": [
       "ε (generic function with 1 method)"
      ]
     },
     "execution_count": 430,
     "metadata": {},
     "output_type": "execute_result"
    }
   ],
   "source": [
    "function ε(ρ, θ)\n",
    "    ερ = cos(θ/2)^2 * contract(XX, contract(ρ, XX))\n",
    "    ερ = ερ + sin(θ/2)^2 * contract(II, contract(ρ, II))\n",
    "    for i in 1:8\n",
    "        ερ = ερ + (1/2) * signsch[i] * sin(θ) * contract(ch[i], contract(ρ, ch[i]))\n",
    "    end\n",
    "    return ερ\n",
    "end\n"
   ]
  },
  {
   "cell_type": "code",
   "execution_count": 431,
   "metadata": {},
   "outputs": [
    {
     "data": {
      "text/plain": [
       "MPO\n",
       "[1] ((dim=2|id=399|\"Qubit,i1\")', (dim=2|id=399|\"Qubit,i1\"), (dim=2|id=705|\"Link,l=1\"))\n",
       "[2] ((dim=2|id=594|\"Qubit,i2\")', (dim=2|id=594|\"Qubit,i2\"), (dim=2|id=705|\"Link,l=1\"))\n"
      ]
     },
     "execution_count": 431,
     "metadata": {},
     "output_type": "execute_result"
    }
   ],
   "source": [
    "θ = pi/3\n",
    "ερMPO = ε(ρMPO,θ)"
   ]
  },
  {
   "cell_type": "code",
   "execution_count": 432,
   "metadata": {},
   "outputs": [
    {
     "name": "stdout",
     "output_type": "stream",
     "text": [
      "-0.0 + 0.0im\n"
     ]
    }
   ],
   "source": [
    "ρO = inner(ερMPO,ZZ) #Because the trace is the inner product between ρ and ZZ!\n",
    "println(round(ρO, digits = 5))"
   ]
  },
  {
   "cell_type": "markdown",
   "metadata": {},
   "source": [
    "### Now we are going to perform the simulation by sampling the channels and doing a finite number of shots. "
   ]
  },
  {
   "cell_type": "markdown",
   "metadata": {},
   "source": [
    "#### For this we need to implement first the 6 basic channels. I defined them as 10 channels but can do 6"
   ]
  },
  {
   "cell_type": "code",
   "execution_count": 433,
   "metadata": {},
   "outputs": [
    {
     "data": {
      "text/plain": [
       "MPO\n",
       "[1] ((dim=2|id=399|\"Qubit,i1\")', (dim=2|id=399|\"Qubit,i1\")'')\n",
       "[2] ((dim=2|id=594|\"Qubit,i2\")', (dim=2|id=594|\"Qubit,i2\")'')\n"
      ]
     },
     "execution_count": 433,
     "metadata": {},
     "output_type": "execute_result"
    }
   ],
   "source": [
    "# Now we define the MPOs (not sure if this is needed)\n",
    "sites = [ia,ib]\n",
    "\n",
    "ch = Array{MPO}(undef,8)\n",
    "for i in 1:8\n",
    "    ch[i] = MPO(sites)\n",
    "end\n",
    "\n",
    "# II operator\n",
    "ch[1][1] = Ida\n",
    "ch[1][2] = Idb\n",
    "## XX operator\n",
    "ch[2][1] = Xa\n",
    "ch[2][2] = Xb\n",
    "\n",
    "ZZ = MPO(sites)\n",
    "ZZ[1] = Za\n",
    "ZZ[2] = Zb\n",
    "\n",
    "function Z_measurement()\n",
    "    \n",
    "end\n",
    "\n",
    "ch[1][1] = projPPa    \n",
    "ch[1][2] = dag(Sb)\n",
    "\n",
    "ch[2][1] = dag(Sa)\n",
    "ch[2][2] = projPPb    \n",
    "\n",
    "ch[3][1] = projPPa    \n",
    "ch[3][2] = Sb       \n",
    "\n",
    "ch[4][1] = Sa\n",
    "ch[4][2] = projPPb    \n",
    "\n",
    "ch[5][1] = projMMa    \n",
    "ch[5][2] = dag(Sb)\n",
    "\n",
    "ch[6][1] = dag(Sa)\n",
    "ch[6][2] = projMMb    \n",
    "\n",
    "ch[7][1] = projMMa    \n",
    "ch[7][2] = Sb       \n",
    "\n",
    "ch[8][1] = Sa\n",
    "ch[8][2] = projMMb;\n",
    "XX\n"
   ]
  },
  {
   "cell_type": "code",
   "execution_count": 469,
   "metadata": {},
   "outputs": [],
   "source": [
    "# I am going to define the channels as functions, as in Gian's code\n",
    "i = Index(2, \"S = 1/2\")\n",
    "X = toMPO(op(\"X\",i),[i])\n",
    "S = op(\"S\",i)\n",
    "# What do we do with the indices? I am defining all operators with the same index, but will this be bad?\n",
    "\n",
    "# Channel 1 (identity)\n",
    "function channel1A(ρ::MPO)\n",
    "    return ρ\n",
    "end\n",
    "function channel1B(ρ::MPO)\n",
    "    return ρ\n",
    "end\n",
    "\n",
    "# Channel 2 (XX gate)\n",
    "function channel2A(ρ::MPO, i::Index)\n",
    "    return apply(apply(X,ρ),X)\n",
    "end\n",
    "\n",
    "function channel2B(ρ::MPO)\n",
    "    \n",
    "end\n",
    "\n",
    "# Channel 3 (S ⊗ Mz)\n",
    "function channel3A(ρ::MPO)\n",
    "    \n",
    "end\n",
    "function channel3A(ρ::MPO)\n",
    "    \n",
    "end\n",
    "\n",
    "# Channel 4 (Mz ⊗ S)\n",
    "function channel4A(ρ::MPO)\n",
    "    \n",
    "end\n",
    "function channel4B(ρ::MPO)\n",
    "    \n",
    "end\n",
    "\n",
    "# Channel 5 (Mz ⊗ S†)\n",
    "function channel5A(ρ::MPO)\n",
    "    \n",
    "end\n",
    "function channel5B(ρ::MPO)\n",
    "    \n",
    "end\n",
    "# Channel 6 (S† ⊗ Mz)\n",
    "function channel6A(ρ::MPO)\n",
    "    \n",
    "end\n",
    "function channel6B(ρ::MPO)\n",
    "    \n",
    "end;"
   ]
  },
  {
   "cell_type": "code",
   "execution_count": 470,
   "metadata": {},
   "outputs": [
    {
     "data": {
      "text/plain": [
       "true"
      ]
     },
     "execution_count": 470,
     "metadata": {},
     "output_type": "execute_result"
    }
   ],
   "source": [
    "ket0 = state(\"0\", i)\n",
    "ket1 = state(\"1\", i)\n",
    "\n",
    "ρ = ket0 * dag(ket0)'\n",
    "ρ1 = toMPO(ρ,[i]; cutoff = 1e-15)\n",
    "\n",
    "ψ = MPS(ket0, [i])\n",
    "ρ2 = outer(ψ,ψ'; cutoff = 1e-15)\n",
    "\n",
    "isapprox(ρ1, ρ2; atol=1e-10)\n"
   ]
  },
  {
   "cell_type": "code",
   "execution_count": 471,
   "metadata": {},
   "outputs": [
    {
     "data": {
      "text/plain": [
       "MPO\n",
       "[1] ((dim=2|id=339|\"S=1/2\")', (dim=2|id=339|\"S=1/2\"))\n"
      ]
     },
     "execution_count": 471,
     "metadata": {},
     "output_type": "execute_result"
    }
   ],
   "source": [
    "X"
   ]
  },
  {
   "cell_type": "code",
   "execution_count": 472,
   "metadata": {},
   "outputs": [
    {
     "data": {
      "text/plain": [
       "MPO\n",
       "[1] ((dim=2|id=339|\"S=1/2\")', (dim=2|id=339|\"S=1/2\")'')\n"
      ]
     },
     "execution_count": 472,
     "metadata": {},
     "output_type": "execute_result"
    }
   ],
   "source": [
    "ρ1'"
   ]
  },
  {
   "cell_type": "code",
   "execution_count": 473,
   "metadata": {},
   "outputs": [
    {
     "data": {
      "text/plain": [
       "MPO\n",
       "[1] ((dim=2|id=339|\"S=1/2\")', (dim=2|id=339|\"S=1/2\"))\n"
      ]
     },
     "execution_count": 473,
     "metadata": {},
     "output_type": "execute_result"
    }
   ],
   "source": [
    "XρX = channel2A(ρ2, i)\n",
    "Z = toMPO(op(\"Z\",i),[i])\n",
    "\n"
   ]
  },
  {
   "cell_type": "code",
   "execution_count": 474,
   "metadata": {},
   "outputs": [
    {
     "data": {
      "text/plain": [
       "MPO\n",
       "[1] ((dim=2|id=339|\"S=1/2\")', (dim=2|id=339|\"S=1/2\"))\n"
      ]
     },
     "execution_count": 474,
     "metadata": {},
     "output_type": "execute_result"
    }
   ],
   "source": [
    "XρX"
   ]
  },
  {
   "cell_type": "code",
   "execution_count": 476,
   "metadata": {},
   "outputs": [
    {
     "data": {
      "text/plain": [
       "MPO\n",
       "[1] ((dim=2|id=339|\"S=1/2\")', (dim=2|id=339|\"S=1/2\"))\n"
      ]
     },
     "execution_count": 476,
     "metadata": {},
     "output_type": "execute_result"
    }
   ],
   "source": [
    "A = apply(Z, XρX)\n"
   ]
  },
  {
   "cell_type": "code",
   "execution_count": 477,
   "metadata": {},
   "outputs": [
    {
     "data": {
      "text/plain": [
       "-1.0"
      ]
     },
     "execution_count": 477,
     "metadata": {},
     "output_type": "execute_result"
    }
   ],
   "source": [
    "tr(A)"
   ]
  }
 ],
 "metadata": {
  "kernelspec": {
   "display_name": "Julia 1.10.5",
   "language": "julia",
   "name": "julia-1.10"
  },
  "language_info": {
   "file_extension": ".jl",
   "mimetype": "application/julia",
   "name": "julia",
   "version": "1.10.5"
  }
 },
 "nbformat": 4,
 "nbformat_minor": 2
}
