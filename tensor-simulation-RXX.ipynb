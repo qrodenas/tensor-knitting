{
 "cells": [
  {
   "cell_type": "code",
   "execution_count": 252,
   "metadata": {},
   "outputs": [],
   "source": [
    "using ITensors\n",
    "using ITensorGLMakie"
   ]
  },
  {
   "cell_type": "markdown",
   "metadata": {},
   "source": [
    "First we are going to define the two qubits. We want general product states $\\ket{\\psi_a}\\otimes \\ket{\\psi_b}$"
   ]
  },
  {
   "cell_type": "code",
   "execution_count": 253,
   "metadata": {},
   "outputs": [],
   "source": [
    "αa = 1; βa = 1; # First qubit parameters\n",
    "αb = 0; βb = 1; # Second qubit parameters\n",
    "\n",
    "ia = Index(2, \"Qubit,i1\");\n",
    "ib = Index(2, \"Qubit,i2\");\n",
    "\n",
    "\n",
    "ket0a = state(\"0\",ia);\n",
    "ket0b = state(\"0\",ib);\n",
    "ket1a = state(\"1\",ia);\n",
    "ket1b = state(\"1\",ib);\n",
    "\n",
    "# Define qubit states\n",
    "ψa = normalize(αa*ket0a + βa*ket1a);\n",
    "ψb = normalize(αb*ket0b + βb*ket1b);\n",
    "\n",
    "# Compute the product state\n",
    "ψ = ψa * ψb;"
   ]
  },
  {
   "cell_type": "markdown",
   "metadata": {},
   "source": [
    "Compute density matrix and transform to MPS"
   ]
  },
  {
   "cell_type": "code",
   "execution_count": 254,
   "metadata": {},
   "outputs": [
    {
     "data": {
      "text/plain": [
       "MPO\n",
       "[1] ((dim=2|id=850|\"Qubit,i1\"), (dim=2|id=138|\"Link,n=1\"))\n",
       "[2] ((dim=2|id=138|\"Link,n=1\"), (dim=2|id=384|\"Qubit,i2\"), (dim=2|id=850|\"Qubit,i1\")', (dim=2|id=384|\"Qubit,i2\")')\n"
      ]
     },
     "execution_count": 254,
     "metadata": {},
     "output_type": "execute_result"
    }
   ],
   "source": [
    "# Density matrix:\n",
    "ρ = ψ * dag(ψ')\n",
    "\n",
    "#Transform to MPS (Probably it's better to start with MPS instead of converting)\n",
    "sites = (ia, ib)\n",
    "\n",
    "ρMPO = toMPO(ρ, sites)"
   ]
  },
  {
   "cell_type": "code",
   "execution_count": 255,
   "metadata": {},
   "outputs": [
    {
     "data": {
      "text/plain": [
       "nothing"
      ]
     },
     "metadata": {},
     "output_type": "display_data"
    },
    {
     "data": {
      "text/plain": [
       "MPO\n",
       "[1] ((dim=2|id=850|\"Qubit,i1\"), (dim=2|id=138|\"Link,n=1\"))\n",
       "[2] ((dim=2|id=138|\"Link,n=1\"), (dim=2|id=384|\"Qubit,i2\"), (dim=2|id=850|\"Qubit,i1\")', (dim=2|id=384|\"Qubit,i2\")')\n"
      ]
     },
     "execution_count": 255,
     "metadata": {},
     "output_type": "execute_result"
    }
   ],
   "source": [
    "@visualize ρMPO # Why I cannot visualize?"
   ]
  },
  {
   "cell_type": "markdown",
   "metadata": {},
   "source": [
    "Now I will define the quantum channels. We can define the Kraus ops with indices ia,ib,ia',ib'"
   ]
  },
  {
   "cell_type": "code",
   "execution_count": 256,
   "metadata": {},
   "outputs": [],
   "source": [
    "# First define the operators we need\n",
    "Ida = op(\"Id\",ia);\n",
    "Idb = op(\"Id\",ib);\n",
    "Xa = op(\"X\",ia);\n",
    "Xb = op(\"X\",ib);\n",
    "Ya = op(\"Y\",ia);\n",
    "Yb = op(\"Y\",ib);\n",
    "Za = op(\"Z\",ia);\n",
    "Zb = op(\"Z\",ib);\n",
    "\n",
    "projPPa = (Ida + Xa)/ 2; # projPP and projMM are the projectors on the plus and minus states (X eigenstates)\n",
    "projPPb = (Idb + Xb)/ 2;\n",
    "projMMa = (Ida - Xa)/ 2;\n",
    "projMMb = (Idb - Xb)/ 2;\n",
    "\n",
    "Sa = op(\"S\",ia);\n",
    "Sb = op(\"S\",ib);"
   ]
  },
  {
   "cell_type": "code",
   "execution_count": 257,
   "metadata": {},
   "outputs": [
    {
     "data": {
      "text/plain": [
       "MPO\n",
       "[1] ((dim=2|id=850|\"Qubit,i1\")', (dim=2|id=850|\"Qubit,i1\"))\n",
       "[2] ((dim=2|id=384|\"Qubit,i2\")', (dim=2|id=384|\"Qubit,i2\"))\n"
      ]
     },
     "execution_count": 257,
     "metadata": {},
     "output_type": "execute_result"
    }
   ],
   "source": [
    "# Now we define the MPOs (not sure if this is needed)\n",
    "sites = [ia,ib]\n",
    "\n",
    "II = MPO(sites)\n",
    "II[1] = Ida\n",
    "II[2] = Idb\n",
    "\n",
    "XX = MPO(sites)\n",
    "XX[1] = Xa\n",
    "XX[2] = Xb\n",
    "\n",
    "ZZ = MPO(sites)\n",
    "ZZ[1] = Za\n",
    "ZZ[2] = Zb\n",
    "\n",
    "ch = Array{MPO}(undef,8)\n",
    "for i in 1:8\n",
    "    ch[i] = MPO(sites)\n",
    "end\n",
    "\n",
    "ch[1][1] = projPPa    \n",
    "ch[1][2] = dag(Sb)\n",
    "\n",
    "ch[2][1] = dag(Sa)\n",
    "ch[2][2] = projPPb    \n",
    "\n",
    "ch[3][1] = projPPa    \n",
    "ch[3][2] = Sb       \n",
    "\n",
    "ch[4][1] = Sa\n",
    "ch[4][2] = projPPb    \n",
    "\n",
    "ch[5][1] = projMMa    \n",
    "ch[5][2] = dag(Sb)\n",
    "\n",
    "ch[6][1] = dag(Sa)\n",
    "ch[6][2] = projMMb    \n",
    "\n",
    "ch[7][1] = projMMa    \n",
    "ch[7][2] = Sb       \n",
    "\n",
    "ch[8][1] = Sa\n",
    "ch[8][2] = projMMb;\n",
    "XX"
   ]
  },
  {
   "cell_type": "code",
   "execution_count": 258,
   "metadata": {},
   "outputs": [],
   "source": [
    "ch[1] = replaceprime(ch[1], (0 => 2))\n",
    "ch[2] = replaceprime(ch[2], (0 => 2))\n",
    "ch[3] = replaceprime(ch[3], (0 => 2))\n",
    "ch[4] = replaceprime(ch[4], (0 => 2))\n",
    "ch[5] = replaceprime(ch[5], (0 => 2))\n",
    "ch[6] = replaceprime(ch[6], (0 => 2))\n",
    "ch[7] = replaceprime(ch[7], (0 => 2))\n",
    "ch[8] = replaceprime(ch[8], (0 => 2))\n",
    "signsch = [1,1,-1,-1,-1,-1,1,1]\n",
    "\n",
    "II = replaceprime(II, (0 => 2))\n",
    "XX = replaceprime(XX, (0 => 2));\n",
    "\n"
   ]
  },
  {
   "cell_type": "code",
   "execution_count": 259,
   "metadata": {},
   "outputs": [
    {
     "data": {
      "text/plain": [
       "MPO\n",
       "[1] ((dim=2|id=850|\"Qubit,i1\")', (dim=2|id=850|\"Qubit,i1\")'')\n",
       "[2] ((dim=2|id=384|\"Qubit,i2\")', (dim=2|id=384|\"Qubit,i2\")'')\n"
      ]
     },
     "execution_count": 259,
     "metadata": {},
     "output_type": "execute_result"
    }
   ],
   "source": [
    "XX"
   ]
  },
  {
   "cell_type": "code",
   "execution_count": 260,
   "metadata": {},
   "outputs": [
    {
     "data": {
      "text/plain": [
       "MPO\n",
       "[1] ((dim=2|id=850|\"Qubit,i1\"), (dim=2|id=850|\"Qubit,i1\")', (dim=1|id=248|\"Link,l=1\"))\n",
       "[2] ((dim=2|id=384|\"Qubit,i2\"), (dim=2|id=384|\"Qubit,i2\")', (dim=1|id=248|\"Link,l=1\"))\n"
      ]
     },
     "execution_count": 260,
     "metadata": {},
     "output_type": "execute_result"
    }
   ],
   "source": [
    "XX*ρMPO*XX"
   ]
  },
  {
   "cell_type": "code",
   "execution_count": 261,
   "metadata": {},
   "outputs": [
    {
     "data": {
      "text/plain": [
       "ε (generic function with 2 methods)"
      ]
     },
     "execution_count": 261,
     "metadata": {},
     "output_type": "execute_result"
    }
   ],
   "source": [
    "function ε(ρ, θ)\n",
    "    ερ = cos(θ/2)^2 * contract(XX, contract(ρ, XX))\n",
    "    ερ = ερ + sin(θ/2)^2 * contract(II, contract(ρ, II))\n",
    "    for i in 1:8\n",
    "        ερ = ερ + (1/2) * signsch[i] * sin(θ) * contract(ch[i], contract(ρ, ch[i]))\n",
    "    end\n",
    "    return ερ\n",
    "end\n"
   ]
  },
  {
   "cell_type": "code",
   "execution_count": 262,
   "metadata": {},
   "outputs": [
    {
     "data": {
      "text/plain": [
       "MPO\n",
       "[1] ((dim=2|id=850|\"Qubit,i1\")', (dim=2|id=850|\"Qubit,i1\"), (dim=2|id=975|\"Link,l=1\"))\n",
       "[2] ((dim=2|id=384|\"Qubit,i2\")', (dim=2|id=384|\"Qubit,i2\"), (dim=2|id=975|\"Link,l=1\"))\n"
      ]
     },
     "execution_count": 262,
     "metadata": {},
     "output_type": "execute_result"
    }
   ],
   "source": [
    "θ = pi/3\n",
    "ερMPO = ε(ρMPO,θ)"
   ]
  },
  {
   "cell_type": "code",
   "execution_count": 263,
   "metadata": {},
   "outputs": [
    {
     "data": {
      "text/plain": [
       "MPO\n",
       "[1] ((dim=2|id=850|\"Qubit,i1\"), (dim=2|id=850|\"Qubit,i1\")'', (dim=1|id=449|\"Link,l=1\"))\n",
       "[2] ((dim=2|id=384|\"Qubit,i2\"), (dim=2|id=384|\"Qubit,i2\")'', (dim=1|id=449|\"Link,l=1\"))\n"
      ]
     },
     "execution_count": 263,
     "metadata": {},
     "output_type": "execute_result"
    }
   ],
   "source": [
    "oprtrs = ερMPO*ZZ'"
   ]
  },
  {
   "cell_type": "code",
   "execution_count": 264,
   "metadata": {},
   "outputs": [
    {
     "data": {
      "text/plain": [
       "MPS\n",
       "[1] ((dim=2|id=850|\"Qubit,i1\"), (dim=2|id=856|\"Link,n=1\"))\n",
       "[2] ((dim=2|id=856|\"Link,n=1\"), (dim=2|id=384|\"Qubit,i2\"))\n"
      ]
     },
     "execution_count": 264,
     "metadata": {},
     "output_type": "execute_result"
    }
   ],
   "source": [
    "ket00 = MPS(ket0a * ket0b,sites)\n",
    "ket11 = MPS(ket1a * ket1b,sites)\n",
    "ket01 = MPS(ket0a * ket1b,sites)\n",
    "ket10 = MPS(ket1a * ket0b,sites)"
   ]
  },
  {
   "cell_type": "code",
   "execution_count": 265,
   "metadata": {},
   "outputs": [
    {
     "data": {
      "text/plain": [
       "-1.1102230246251565e-16 + 0.0im"
      ]
     },
     "execution_count": 265,
     "metadata": {},
     "output_type": "execute_result"
    }
   ],
   "source": [
    "expval = inner(ket00, oprtrs,ket00) + inner(ket01, oprtrs,ket01) + inner(ket10, oprtrs,ket10) + inner(ket11, oprtrs,ket11) "
   ]
  }
 ],
 "metadata": {
  "kernelspec": {
   "display_name": "Julia 1.10.5",
   "language": "julia",
   "name": "julia-1.10"
  },
  "language_info": {
   "file_extension": ".jl",
   "mimetype": "application/julia",
   "name": "julia",
   "version": "1.10.5"
  }
 },
 "nbformat": 4,
 "nbformat_minor": 2
}
