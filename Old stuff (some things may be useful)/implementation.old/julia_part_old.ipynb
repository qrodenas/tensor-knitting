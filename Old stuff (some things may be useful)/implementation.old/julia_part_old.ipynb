{
 "cells": [
  {
   "cell_type": "markdown",
   "metadata": {},
   "source": [
    "Now we parse the content of the JSON file with the QASM circuits"
   ]
  },
  {
   "cell_type": "code",
   "execution_count": 1,
   "metadata": {},
   "outputs": [],
   "source": [
    "using JSON\n",
    "using ITensors\n",
    "\n",
    "# Run only once or gives problems later\n",
    "# include(\"utils.jl\")\n",
    "# using .Utils\n"
   ]
  },
  {
   "cell_type": "code",
   "execution_count": 2,
   "metadata": {},
   "outputs": [
    {
     "ename": "UndefVarError",
     "evalue": "UndefVarError: `parse_subcircuits` not defined",
     "output_type": "error",
     "traceback": [
      "UndefVarError: `parse_subcircuits` not defined\n",
      "\n",
      "Stacktrace:\n",
      " [1] top-level scope\n",
      "   @ c:\\Users\\pably\\Documents\\Master\\Quantum Science and Engineering\\MA3\\Semester project II\\Coding\\tensor-knitting\\implementation\\jl_notebook_cell_df34fa98e69747e1a8f8a730347b8e2f_W2sZmlsZQ==.jl:2"
     ]
    }
   ],
   "source": [
    "json_filename = \"subcircuits.json\"  \n",
    "basis_gates = [\"h\", \"rx\", \"ry\", \"rz\", \"rxx\", \"rzz\", \"ryy\", \"cx\"]\n",
    "\n",
    "circuits_data, expval_knitting, coefficients = parse_subcircuits(json_filename);\n",
    "all_mpo_sequences, all_rhos, observables = mpo_sequence_apply(circuits_data,basis_gates);"
   ]
  },
  {
   "cell_type": "code",
   "execution_count": 3,
   "metadata": {},
   "outputs": [
    {
     "ename": "UndefVarError",
     "evalue": "UndefVarError: `coefficients` not defined",
     "output_type": "error",
     "traceback": [
      "UndefVarError: `coefficients` not defined\n",
      "\n",
      "Stacktrace:\n",
      " [1] top-level scope\n",
      "   @ c:\\Users\\pably\\Documents\\Master\\Quantum Science and Engineering\\MA3\\Semester project II\\Coding\\tensor-knitting\\implementation\\jl_notebook_cell_df34fa98e69747e1a8f8a730347b8e2f_W3sZmlsZQ==.jl:1"
     ]
    }
   ],
   "source": [
    "expval_tensors = real(sum(coefficients[i] * (sum((inner(observables[\"A\"][j],all_rhos[\"A\"][i]) * inner(observables[\"B\"][j],all_rhos[\"B\"][i])) for j in 1:length(observables[\"A\"]))) for i in 1:length(coefficients)))\n",
    "\n",
    "discrepancy = abs(round(100*(expval_knitting - expval_tensors)/expval_knitting, digits = 4))\n",
    "\n",
    "println(\"\"\"\n",
    "==============================\n",
    "• Expected Value Knitting: $(round(expval_knitting, digits = 8))\n",
    "• Expected Value Tensors:  $(round(expval_tensors, digits = 8))\n",
    "• Discrepancy    : $discrepancy%\n",
    "==============================\n",
    "\"\"\")\n"
   ]
  },
  {
   "cell_type": "code",
   "execution_count": 4,
   "metadata": {},
   "outputs": [
    {
     "ename": "UndefVarError",
     "evalue": "UndefVarError: `create_sites` not defined",
     "output_type": "error",
     "traceback": [
      "UndefVarError: `create_sites` not defined\n",
      "\n",
      "Stacktrace:\n",
      " [1] top-level scope\n",
      "   @ c:\\Users\\pably\\Documents\\Master\\Quantum Science and Engineering\\MA3\\Semester project II\\Coding\\tensor-knitting\\implementation\\jl_notebook_cell_df34fa98e69747e1a8f8a730347b8e2f_W4sZmlsZQ==.jl:3"
     ]
    }
   ],
   "source": [
    "os = OpSum()\n",
    "os += \"Y\", 1\n",
    "sites = create_sites(1)\n",
    "Y_gate = MPO(os, sites)"
   ]
  },
  {
   "cell_type": "code",
   "execution_count": 5,
   "metadata": {},
   "outputs": [
    {
     "ename": "UndefVarError",
     "evalue": "UndefVarError: `inspect_mpo` not defined",
     "output_type": "error",
     "traceback": [
      "UndefVarError: `inspect_mpo` not defined\n",
      "\n",
      "Stacktrace:\n",
      " [1] top-level scope\n",
      "   @ c:\\Users\\pably\\Documents\\Master\\Quantum Science and Engineering\\MA3\\Semester project II\\Coding\\tensor-knitting\\implementation\\jl_notebook_cell_df34fa98e69747e1a8f8a730347b8e2f_W5sZmlsZQ==.jl:1"
     ]
    }
   ],
   "source": [
    "inspect_mpo(Y_gate, sites)"
   ]
  }
 ],
 "metadata": {
  "kernelspec": {
   "display_name": "Julia 1.10.5",
   "language": "julia",
   "name": "julia-1.10"
  },
  "language_info": {
   "file_extension": ".jl",
   "mimetype": "application/julia",
   "name": "julia",
   "version": "1.10.5"
  }
 },
 "nbformat": 4,
 "nbformat_minor": 2
}
