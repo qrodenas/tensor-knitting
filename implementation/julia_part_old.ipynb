{
 "cells": [
  {
   "cell_type": "markdown",
   "metadata": {},
   "source": [
    "Now we parse the content of the JSON file with the QASM circuits"
   ]
  },
  {
   "cell_type": "code",
   "execution_count": 10,
   "metadata": {},
   "outputs": [],
   "source": [
    "using JSON\n",
    "using ITensors\n",
    "\n"
   ]
  },
  {
   "cell_type": "code",
   "execution_count": 2,
   "metadata": {},
   "outputs": [
    {
     "data": {
      "text/plain": [
       "Dict{String, Vector{Dict{String, Any}}} with 2 entries:\n",
       "  \"B\" => [Dict(\"Subcircuit\"=>0, \"Operations\"=>Dict{String, Any}[Dict(\"Angle\"=>0…\n",
       "  \"A\" => [Dict(\"Subcircuit\"=>0, \"Operations\"=>Dict{String, Any}[Dict(\"Angle\"=>0…"
      ]
     },
     "metadata": {},
     "output_type": "display_data"
    }
   ],
   "source": [
    "\n",
    "# Function to parse and organize the JSON data\n",
    "function parse_subcircuits(json_filename::String)\n",
    "\n",
    "    json_data = JSON.parsefile(json_filename)\n",
    "    \n",
    "    subexp_dict = Dict{String, Vector{Dict{String, Any}}}()\n",
    "    \n",
    "    for entry in json_data\n",
    "        category = entry[\"Subexperiment\"]\n",
    "        index = entry[\"Subcircuit\"]\n",
    "        operations = entry[\"Operations\"]\n",
    "        operations_raw = entry[\"Operations\"]\n",
    "        \n",
    "        processed_operations = Vector{Dict{String, Any}}()\n",
    "        for op in operations_raw\n",
    "            name = op[\"Name\"]\n",
    "            qubits = op[\"Qubits\"]\n",
    "            angle_array = op[\"Angle\"]\n",
    "            \n",
    "            angle = if length(angle_array) == 1\n",
    "                        angle_array[1]\n",
    "                    else\n",
    "                        NaN  \n",
    "                    end\n",
    "            \n",
    "            processed_op = Dict(\n",
    "                \"Name\" => name,\n",
    "                \"Angle\" => angle,\n",
    "                \"Qubits\" => qubits\n",
    "            )\n",
    "            \n",
    "            push!(processed_operations, processed_op)\n",
    "        end\n",
    "        \n",
    "        # Create a subcircuit dictionary\n",
    "        subcircuit = Dict(\n",
    "            \"Subcircuit\" => index,\n",
    "            \"Operations\" => processed_operations\n",
    "        )\n",
    "        \n",
    "        if haskey(subexp_dict, category)\n",
    "            push!(subexp_dict[category], subcircuit)\n",
    "        else\n",
    "            subexp_dict[category] = [subcircuit]\n",
    "        end\n",
    "    end\n",
    "    \n",
    "    sorted_categories = sort(collect(keys(subexp_dict)))\n",
    "    \n",
    "    organized_data = Dict{String, Vector{Dict{String, Any}}}()\n",
    "    \n",
    "    for category in sorted_categories\n",
    "        sorted_subcircuits = sort(subexp_dict[category], by = sc -> sc[\"Subcircuit\"])\n",
    "        organized_data[category] = sorted_subcircuits\n",
    "    end\n",
    "    \n",
    "    return organized_data\n",
    "end\n",
    "\n",
    "function display_organized_data(organized_data::Dict{String, Vector{Dict{String, Any}}})\n",
    "    for (category, subcircuits) in organized_data\n",
    "        println(\"Subexperiment Category: \", category)\n",
    "        for subcircuit in subcircuits\n",
    "            println(\"  Subcircuit Index: \", subcircuit[\"Subcircuit\"])\n",
    "            for op in subcircuit[\"Operations\"]\n",
    "                println(\"    Operation: \", op[\"Name\"])\n",
    "                println(\"      Angle: \", op[\"Angle\"])\n",
    "                println(\"      Qubits: \", op[\"Qubits\"])\n",
    "            end\n",
    "        end\n",
    "    end\n",
    "end\n",
    "\n",
    "json_filename = \"subcircuits.json\"  # Ensure this file is in the current directory or provide the correct path\n",
    "organized_data = parse_subcircuits(json_filename)\n"
   ]
  },
  {
   "cell_type": "code",
   "execution_count": 11,
   "metadata": {},
   "outputs": [
    {
     "name": "stdout",
     "output_type": "stream",
     "text": [
      "Any[\"OPENQASM 3.0;\\ninclude \\\"stdgates.inc\\\";\\ngate rxx(p0) _gate_q_0, _gate_q_1 {\\n  h _gate_q_0;\\n  h _gate_q_1;\\n  cx _gate_q_0, _gate_q_1;\\n  rz(p0) _gate_q_1;\\n  cx _gate_q_0, _gate_q_1;\\n  h _gate_q_1;\\n  h _gate_q_0;\\n}\\nbit[5] observable_measurements;\\nbit[1] qpd_measurements;\\nqubit[5] q2;\\nrxx(0.4) q2[0], q2[1];\\nrxx(0.4) q2[1], q2[2];\\nrz(0.4) q2[1];\\nrxx(0.4) q2[2], q2[3];\\nrz(0.4) q2[2];\\nrxx(0.4) q2[3], q2[4];\\nrxx(0.4) q2[0], q2[4];\\nrz(0.4) q2[0];\\nrz(0.4) q2[3];\\nrz(0.4) q2[4];\\nobservable_measurements[0] = measure q2[0];\\nobservable_measurements[1] = measure q2[1];\\nobservable_measurements[2] = measure q2[2];\\nobservable_measurements[3] = measure q2[3];\\nobservable_measurements[4] = measure q2[4];\\n\", \"OPENQASM 3.0;\\ninclude \\\"stdgates.inc\\\";\\ngate rxx(p0) _gate_q_0, _gate_q_1 {\\n  h _gate_q_0;\\n  h _gate_q_1;\\n  cx _gate_q_0, _gate_q_1;\\n  rz(p0) _gate_q_1;\\n  cx _gate_q_0, _gate_q_1;\\n  h _gate_q_1;\\n  h _gate_q_0;\\n}\\nbit[5] observable_measurements;\\nbit[1] qpd_measurements;\\nqubit[5] q2;\\nrxx(0.4) q2[0], q2[1];\\nrxx(0.4) q2[1], q2[2];\\nrz(0.4) q2[1];\\nrxx(0.4) q2[2], q2[3];\\nrz(0.4) q2[2];\\nrxx(0.4) q2[3], q2[4];\\nrxx(0.4) q2[0], q2[4];\\nsx q2[4];\\nrz(0.4) q2[0];\\nrz(0.4) q2[3];\\nrz(0.4) q2[4];\\nobservable_measurements[0] = measure q2[0];\\nobservable_measurements[1] = measure q2[1];\\nobservable_measurements[2] = measure q2[2];\\nobservable_measurements[3] = measure q2[3];\\nobservable_measurements[4] = measure q2[4];\\n\", \"OPENQASM 3.0;\\ninclude \\\"stdgates.inc\\\";\\ngate rxx(p0) _gate_q_0, _gate_q_1 {\\n  h _gate_q_0;\\n  h _gate_q_1;\\n  cx _gate_q_0, _gate_q_1;\\n  rz(p0) _gate_q_1;\\n  cx _gate_q_0, _gate_q_1;\\n  h _gate_q_1;\\n  h _gate_q_0;\\n}\\ngate sxdg _gate_q_0 {\\n  s _gate_q_0;\\n  h _gate_q_0;\\n  s _gate_q_0;\\n}\\nbit[5] observable_measurements;\\nbit[1] qpd_measurements;\\nqubit[5] q2;\\nrxx(0.4) q2[0], q2[1];\\nrxx(0.4) q2[1], q2[2];\\nrz(0.4) q2[1];\\nrxx(0.4) q2[2], q2[3];\\nrz(0.4) q2[2];\\nrxx(0.4) q2[3], q2[4];\\nrxx(0.4) q2[0], q2[4];\\nsxdg q2[4];\\nrz(0.4) q2[0];\\nrz(0.4) q2[3];\\nrz(0.4) q2[4];\\nobservable_measurements[0] = measure q2[0];\\nobservable_measurements[1] = measure q2[1];\\nobservable_measurements[2] = measure q2[2];\\nobservable_measurements[3] = measure q2[3];\\nobservable_measurements[4] = measure q2[4];\\n\", \"OPENQASM 3.0;\\ninclude \\\"stdgates.inc\\\";\\ngate rxx(p0) _gate_q_0, _gate_q_1 {\\n  h _gate_q_0;\\n  h _gate_q_1;\\n  cx _gate_q_0, _gate_q_1;\\n  rz(p0) _gate_q_1;\\n  cx _gate_q_0, _gate_q_1;\\n  h _gate_q_1;\\n  h _gate_q_0;\\n}\\nbit[5] observable_measurements;\\nbit[1] qpd_measurements;\\nqubit[5] q2;\\nrxx(0.4) q2[0], q2[1];\\nrxx(0.4) q2[1], q2[2];\\nrz(0.4) q2[1];\\nrxx(0.4) q2[2], q2[3];\\nrz(0.4) q2[2];\\nrxx(0.4) q2[3], q2[4];\\nrxx(0.4) q2[0], q2[4];\\nh q2[4];\\nqpd_measurements[0] = measure q2[4];\\nh q2[4];\\nrz(0.4) q2[0];\\nrz(0.4) q2[3];\\nrz(0.4) q2[4];\\nobservable_measurements[0] = measure q2[0];\\nobservable_measurements[1] = measure q2[1];\\nobservable_measurements[2] = measure q2[2];\\nobservable_measurements[3] = measure q2[3];\\nobservable_measurements[4] = measure q2[4];\\n\", \"OPENQASM 3.0;\\ninclude \\\"stdgates.inc\\\";\\ngate rxx(p0) _gate_q_0, _gate_q_1 {\\n  h _gate_q_0;\\n  h _gate_q_1;\\n  cx _gate_q_0, _gate_q_1;\\n  rz(p0) _gate_q_1;\\n  cx _gate_q_0, _gate_q_1;\\n  h _gate_q_1;\\n  h _gate_q_0;\\n}\\nbit[5] observable_measurements;\\nbit[1] qpd_measurements;\\nqubit[5] q2;\\nrxx(0.4) q2[0], q2[1];\\nrxx(0.4) q2[1], q2[2];\\nrz(0.4) q2[1];\\nrxx(0.4) q2[2], q2[3];\\nrz(0.4) q2[2];\\nrxx(0.4) q2[3], q2[4];\\nrxx(0.4) q2[0], q2[4];\\nh q2[4];\\nqpd_measurements[0] = measure q2[4];\\nh q2[4];\\nrz(0.4) q2[0];\\nrz(0.4) q2[3];\\nrz(0.4) q2[4];\\nobservable_measurements[0] = measure q2[0];\\nobservable_measurements[1] = measure q2[1];\\nobservable_measurements[2] = measure q2[2];\\nobservable_measurements[3] = measure q2[3];\\nobservable_measurements[4] = measure q2[4];\\n\", \"OPENQASM 3.0;\\ninclude \\\"stdgates.inc\\\";\\ngate rxx(p0) _gate_q_0, _gate_q_1 {\\n  h _gate_q_0;\\n  h _gate_q_1;\\n  cx _gate_q_0, _gate_q_1;\\n  rz(p0) _gate_q_1;\\n  cx _gate_q_0, _gate_q_1;\\n  h _gate_q_1;\\n  h _gate_q_0;\\n}\\nbit[5] observable_measurements;\\nbit[1] qpd_measurements;\\nqubit[5] q2;\\nrxx(0.4) q2[0], q2[1];\\nrxx(0.4) q2[1], q2[2];\\nrz(0.4) q2[1];\\nrxx(0.4) q2[2], q2[3];\\nrz(0.4) q2[2];\\nrxx(0.4) q2[3], q2[4];\\nrxx(0.4) q2[0], q2[4];\\nx q2[4];\\nrz(0.4) q2[0];\\nrz(0.4) q2[3];\\nrz(0.4) q2[4];\\nobservable_measurements[0] = measure q2[0];\\nobservable_measurements[1] = measure q2[1];\\nobservable_measurements[2] = measure q2[2];\\nobservable_measurements[3] = measure q2[3];\\nobservable_measurements[4] = measure q2[4];\\n\"]"
     ]
    }
   ],
   "source": [
    "#Read and parse the json\n",
    "file_content = read(\"circuits.json\", String)\n",
    "qasm_list = JSON.parse(file_content)\n",
    "\n",
    "# Now, qasm_list is an array of QASM strings\n",
    "print(qasm_list)"
   ]
  },
  {
   "cell_type": "code",
   "execution_count": 12,
   "metadata": {},
   "outputs": [
    {
     "data": {
      "text/plain": [
       "parse_qasm (generic function with 1 method)"
      ]
     },
     "metadata": {},
     "output_type": "display_data"
    }
   ],
   "source": [
    "function parse_qasm(qasm_string::String)\n",
    "    lines = split(qasm_string, \"\\n\")\n",
    "    n_qubits = 0\n",
    "    gates = []\n",
    "\n",
    "    for line in lines\n",
    "        line = strip(split(line, \"//\")[1])\n",
    "        if isempty(line)\n",
    "            continue\n",
    "        end\n",
    "\n",
    "        # Qubit number\n",
    "        if startswith(line, \"qubit[\")\n",
    "            m = match(r\"qubit\\[(\\d+)\\]\\s+\\w+;\", line)\n",
    "            if m !== nothing\n",
    "                n_qubits = parse(Int, m.captures[1])\n",
    "            end\n",
    "\n",
    "        # RXX Gate\n",
    "        elseif startswith(line, \"rxx(\")\n",
    "            m = match(r\"rxx\\((.*?)\\)\\s+q10\\[(\\d+)\\],\\s*q10\\[(\\d+)\\];\", line)\n",
    "            if m !== nothing\n",
    "                θ = parse(Float64, m.captures[1])\n",
    "                q1 = parse(Int, m.captures[2]) + 1\n",
    "                q2 = parse(Int, m.captures[3]) + 1\n",
    "                push!(gates, (:rxx, θ, q1, q2))\n",
    "            end\n",
    "\n",
    "        # RZ Gate\n",
    "        elseif startswith(line, \"rz(\")\n",
    "            m = match(r\"rz\\((.*?)\\)\\s+q10\\[(\\d+)\\];\", line)\n",
    "            if m !== nothing\n",
    "                θ = parse(Float64, m.captures[1])\n",
    "                q = parse(Int, m.captures[2]) + 1\n",
    "                push!(gates, (:rz, θ, q))\n",
    "            end\n",
    "\n",
    "        # H Gate\n",
    "        elseif startswith(line, \"h \")\n",
    "            m = match(r\"h\\s+q10\\[(\\d+)\\];\", line)\n",
    "            if m !== nothing\n",
    "                q = parse(Int, m.captures[1]) + 1\n",
    "                push!(gates, (:h, q))\n",
    "            end\n",
    "\n",
    "        # CX Gate\n",
    "        elseif startswith(line, \"cx \")\n",
    "            m = match(r\"cx\\s+q10\\[(\\d+)\\],\\s*q10\\[(\\d+)\\];\", line)\n",
    "            if m !== nothing\n",
    "                q1 = parse(Int, m.captures[1]) + 1\n",
    "                q2 = parse(Int, m.captures[2]) + 1\n",
    "                push!(gates, (:cx, q1, q2))\n",
    "            end\n",
    "\n",
    "        # QPD Measurement\n",
    "        elseif startswith(line, \"qpd_measurements[\")\n",
    "            m = match(r\"qpd_measurements\\[(\\d+)\\]\\s*=\\s*measure\\s+q10\\[(\\d+)\\];\", line)\n",
    "            if m !== nothing\n",
    "                # meas_index = parse(Int, m.captures[1]) + 1\n",
    "                qubit = parse(Int, m.captures[2]) + 1\n",
    "                # push!(gates, (:measure_qpd, meas_index, qubit))\n",
    "                push!(gates, (:measure_qpd, qubit))\n",
    "            end\n",
    "\n",
    "        end\n",
    "    end\n",
    "\n",
    "    return n_qubits, gates\n",
    "end\n"
   ]
  },
  {
   "cell_type": "code",
   "execution_count": 14,
   "metadata": {},
   "outputs": [
    {
     "name": "stdout",
     "output_type": "stream",
     "text": [
      "5"
     ]
    }
   ],
   "source": [
    "qasm_str = qasm_list[1]\n",
    "n_qubits, gates = parse_qasm(qasm_str);\n",
    "print(n_qubits)"
   ]
  },
  {
   "cell_type": "code",
   "execution_count": null,
   "metadata": {},
   "outputs": [
    {
     "data": {
      "text/plain": [
       "create_sites (generic function with 1 method)"
      ]
     },
     "execution_count": 160,
     "metadata": {},
     "output_type": "execute_result"
    }
   ],
   "source": [
    "function create_sites(n::Int)\n",
    "    return [Index(2, \"Qubit,i$i\") for i in 1:n]\n",
    "end"
   ]
  },
  {
   "cell_type": "code",
   "execution_count": null,
   "metadata": {},
   "outputs": [
    {
     "data": {
      "text/plain": [
       "proj_1_mpo (generic function with 1 method)"
      ]
     },
     "execution_count": 161,
     "metadata": {},
     "output_type": "execute_result"
    }
   ],
   "source": [
    "# Rz Gate with angle θ\n",
    "function rz_gate(sites, i::Int, θ::Float64)\n",
    "    N = length(sites)\n",
    "    rz_mpo = MPO(sites)\n",
    "    for j in 1:N\n",
    "        rz_mpo[j] = op(\"Id\", sites[j])\n",
    "    end\n",
    "    rz_mpo[i] = op(\"Rz\", sites[i]; θ=θ)\n",
    "    return rz_mpo\n",
    "end\n",
    "\n",
    "# H \n",
    "function h_gate(sites, i::Int)\n",
    "    N = length(sites)\n",
    "    h_mpo = MPO(sites)\n",
    "    for j in 1:N\n",
    "        h_mpo[j] = op(\"Id\", sites[j])\n",
    "    end\n",
    "    h_mpo[i] = op(\"H\", sites[i])\n",
    "    return h_mpo\n",
    "end\n",
    "\n",
    "# RXX \n",
    "\n",
    "function rxx_gate(sites, i::Int, j::Int, ϕ::Float64)\n",
    "    N = length(sites)\n",
    "    rxx_mpo = MPO(sites)\n",
    "    \n",
    "    # Assign identity operators to all sites\n",
    "    for k in 1:N\n",
    "        rxx_mpo[k] = op(\"Id\", sites[k])\n",
    "    end\n",
    "    \n",
    "    # Assign RXX operator with the specified angle ϕ to sites i and j\n",
    "    rxx_mpo[i] = op(\"Rxx\", sites[i], sites[j]; ϕ=ϕ)\n",
    "    # rxx_mpo[j] = op(\"Rxx\", sites[i], sites[j]; ϕ=ϕ) #I think we don't need this.\n",
    "    \n",
    "    return rxx_mpo\n",
    "end\n",
    "\n",
    "# CX Gate\n",
    "function cx_gate(sites, control::Int, target::Int)\n",
    "    N = length(sites)\n",
    "    cx_mpo = MPO(sites)\n",
    "    for j in 1:N\n",
    "        cx_mpo[j] = op(\"Id\", sites[j])\n",
    "    end\n",
    "    cx_mpo[control] = op(\"CX\", sites[control], sites[target])\n",
    "\n",
    "    return cx_mpo\n",
    "end\n",
    "\n",
    "# X Gate\n",
    "function x_gate(sites, i::Int)\n",
    "    N = length(sites)\n",
    "    x_mpo = MPO(sites)\n",
    "    for j in 1:N\n",
    "        x_mpo[j] = op(\"Id\", sites[j])\n",
    "    end\n",
    "    x_mpo[i] = op(\"X\", sites[i])\n",
    "    return x_mpo\n",
    "end\n",
    "\n",
    "# Rx Gate with angle θ\n",
    "function rx_gate(sites, i::Int, θ::Float64)\n",
    "    N = length(sites)\n",
    "    rx_mpo = MPO(sites)\n",
    "    for j in 1:N\n",
    "        rx_mpo[j] = op(\"Id\", sites[j])\n",
    "    end\n",
    "    rx_mpo[i] = op(\"Rx\", sites[i]; θ=θ)\n",
    "    return rx_mpo\n",
    "end\n",
    "\n",
    "# MPO for the 0 projector (|0⟩⟨0|)\n",
    "function proj_0_mpo(sites, i::Int)\n",
    "    N = length(sites)\n",
    "    proj_mpo = MPO(sites)\n",
    "    for j in 1:N\n",
    "        proj_mpo[j] = op(\"Id\", sites[j])\n",
    "    end\n",
    "    proj_mpo[i] = op(\"Proj0\", sites[i])  # Projector onto |0⟩\n",
    "    return proj_mpo\n",
    "end\n",
    "\n",
    "# MPO for the 1 projector (|1⟩⟨1|)\n",
    "function proj_1_mpo(sites, i::Int)\n",
    "    N = length(sites)\n",
    "    proj_mpo = MPO(sites)\n",
    "    for j in 1:N\n",
    "        proj_mpo[j] = op(\"Id\", sites[j])\n",
    "    end\n",
    "    proj_mpo[i] = op(\"Proj1\", sites[i])  # Projector onto |1⟩\n",
    "    return proj_mpo\n",
    "end\n",
    "\n"
   ]
  },
  {
   "cell_type": "code",
   "execution_count": null,
   "metadata": {},
   "outputs": [
    {
     "data": {
      "text/plain": [
       "proj_1_gate (generic function with 1 method)"
      ]
     },
     "execution_count": 162,
     "metadata": {},
     "output_type": "execute_result"
    }
   ],
   "source": [
    "# Rz Gate with angle θ\n",
    "function rz_gate(sites, i::Int, θ::Float64)\n",
    "    return op(\"Rz\", sites[i]; θ=θ)\n",
    "end\n",
    "\n",
    "# Hadamard Gate\n",
    "function h_gate(sites, i::Int)\n",
    "    return op(\"H\", sites[i])\n",
    "end\n",
    "\n",
    "# RXX Gate with angle ϕ\n",
    "function rxx_gate(sites, i::Int, j::Int, ϕ::Float64)\n",
    "    return op(\"Rxx\", sites[i], sites[j]; ϕ=ϕ)\n",
    "end\n",
    "\n",
    "# CX (Controlled-X) Gate\n",
    "function cx_gate(sites, control::Int, target::Int)\n",
    "    return op(\"CX\", sites[control], sites[target])\n",
    "end\n",
    "\n",
    "# X Gate\n",
    "function x_gate(sites, i::Int)\n",
    "    return op(\"X\", sites[i])\n",
    "end\n",
    "\n",
    "# Rx Gate with angle θ\n",
    "function rx_gate(sites, i::Int, θ::Float64)\n",
    "    return op(\"Rx\", sites[i]; θ=θ)\n",
    "end\n",
    "\n",
    "# Projector onto |0⟩ (|0⟩⟨0|)\n",
    "function proj_0_gate(sites, i::Int)\n",
    "    return op(\"Proj0\", sites[i])\n",
    "end\n",
    "\n",
    "# Projector onto |1⟩ (|1⟩⟨1|)\n",
    "function proj_1_gate(sites, i::Int)\n",
    "    return op(\"Proj1\", sites[i])\n",
    "end\n"
   ]
  },
  {
   "cell_type": "markdown",
   "metadata": {},
   "source": [
    "Another way of defining MPOs"
   ]
  },
  {
   "cell_type": "code",
   "execution_count": null,
   "metadata": {},
   "outputs": [
    {
     "data": {
      "text/plain": [
       "proj_1_gate (generic function with 1 method)"
      ]
     },
     "execution_count": 163,
     "metadata": {},
     "output_type": "execute_result"
    }
   ],
   "source": [
    "using ITensors\n",
    "\n",
    "# Rz Gate with angle θ\n",
    "function rz_gate(sites, i::Int, θ::Float64)\n",
    "    N = length(sites)\n",
    "    rz_op = op(\"Rz\", sites[i]; θ=θ)\n",
    "    for k in 1:N\n",
    "        if k != i\n",
    "            rz_op = rz_op * op(\"Id\", sites[k])\n",
    "        end\n",
    "    end\n",
    "    return MPO(rz_op, sites)\n",
    "end\n",
    "\n",
    "# Hadamard Gate\n",
    "function h_gate(sites, i::Int)\n",
    "    N = length(sites)\n",
    "    h_op = op(\"H\", sites[i])\n",
    "    for k in 1:N\n",
    "        if k != i\n",
    "            h_op = h_op * op(\"Id\", sites[k])\n",
    "        end\n",
    "    end\n",
    "    return MPO(h_op, sites)\n",
    "end\n",
    "\n",
    "# RXX Gate with angle ϕ\n",
    "function rxx_gate(sites, i::Int, j::Int, ϕ::Float64)\n",
    "    N = length(sites)\n",
    "    rxx_op = op(\"Rxx\", sites[i], sites[j]; ϕ=ϕ)\n",
    "    for k in 1:N\n",
    "        if k != i && k != j\n",
    "            rxx_op = rxx_op * op(\"Id\", sites[k])\n",
    "        end\n",
    "    end\n",
    "    return MPO(rxx_op, sites)\n",
    "end\n",
    "\n",
    "# CX (Controlled-X) Gate\n",
    "function cx_gate(sites, control::Int, target::Int)\n",
    "    N = length(sites)\n",
    "    cx_op = op(\"CX\", sites[control], sites[target])\n",
    "    for k in 1:N\n",
    "        if k != control && k != target\n",
    "            cx_op = cx_op * op(\"Id\", sites[k])\n",
    "        end\n",
    "    end\n",
    "    return MPO(cx_op, sites)\n",
    "end\n",
    "\n",
    "# X Gate\n",
    "function x_gate(sites, i::Int)\n",
    "    N = length(sites)\n",
    "    x_op = op(\"X\", sites[i])\n",
    "    for k in 1:N\n",
    "        if k != i\n",
    "            x_op = x_op * op(\"Id\", sites[k])\n",
    "        end\n",
    "    end\n",
    "    return MPO(x_op, sites)\n",
    "end\n",
    "\n",
    "# Rx Gate with angle θ\n",
    "function rx_gate(sites, i::Int, θ::Float64)\n",
    "    N = length(sites)\n",
    "    rx_op = op(\"Rx\", sites[i]; θ=θ)\n",
    "    for k in 1:N\n",
    "        if k != i\n",
    "            rx_op = rx_op * op(\"Id\", sites[k])\n",
    "        end\n",
    "    end\n",
    "    return MPO(rx_op, sites)\n",
    "end\n",
    "\n",
    "# Projector onto |0⟩ (|0⟩⟨0|)\n",
    "function proj_0_gate(sites, i::Int)\n",
    "    N = length(sites)\n",
    "    proj0_op = op(\"Proj0\", sites[i])\n",
    "    for k in 1:N\n",
    "        if k != i\n",
    "            proj0_op = proj0_op * op(\"Id\", sites[k])\n",
    "        end\n",
    "    end\n",
    "    return MPO(proj0_op, sites)\n",
    "end\n",
    "\n",
    "# Projector onto |1⟩ (|1⟩⟨1|)\n",
    "function proj_1_gate(sites, i::Int)\n",
    "    N = length(sites)\n",
    "    proj1_op = op(\"Proj1\", sites[i])\n",
    "    for k in 1:N\n",
    "        if k != i\n",
    "            proj1_op = proj1_op * op(\"Id\", sites[k])\n",
    "        end\n",
    "    end\n",
    "    return MPO(proj1_op, sites)\n",
    "end\n",
    "\n",
    "# function z_measurement(sites, i::Int)\n",
    "#     N = length(sites)\n",
    "#     z_meas = proj_0_gate(sites, i) - proj_1_gate(sites,i)\n",
    "#     return z_meas\n",
    "# end\n"
   ]
  },
  {
   "cell_type": "code",
   "execution_count": null,
   "metadata": {},
   "outputs": [
    {
     "data": {
      "text/plain": [
       "inspect_mpo (generic function with 1 method)"
      ]
     },
     "execution_count": 164,
     "metadata": {},
     "output_type": "execute_result"
    }
   ],
   "source": [
    "\n",
    "# check if the MPO creation was sucessful\n",
    "function inspect_mpo(mpo::MPO, sites::Vector)\n",
    "    N = length(sites) \n",
    "\n",
    "    println(\"\\nManual Inspection of MPO:\")\n",
    "    for site_idx in 1:N\n",
    "        println(\"Site $site_idx Operator:\")\n",
    "        println(mpo[site_idx])\n",
    "    end\n",
    "end"
   ]
  },
  {
   "cell_type": "code",
   "execution_count": null,
   "metadata": {},
   "outputs": [],
   "source": [
    "# # Example usage\n",
    "# N = 2\n",
    "# sites1 = create_sites(N)\n",
    "# θ = π / 4  \n",
    "# rxx_MPO = cx_gate(sites1,1, 2)  \n",
    "# inspect_mpo(rxx_MPO, sites1)"
   ]
  },
  {
   "cell_type": "code",
   "execution_count": null,
   "metadata": {},
   "outputs": [
    {
     "data": {
      "text/plain": [
       "build_mpo_sequence (generic function with 1 method)"
      ]
     },
     "execution_count": 166,
     "metadata": {},
     "output_type": "execute_result"
    }
   ],
   "source": [
    "function build_mpo_sequence(sites, gates)\n",
    "    N = length(sites)\n",
    "    mpo_list = []\n",
    "    \n",
    "    for gate in gates\n",
    "        gate_type = gate[1]\n",
    "        \n",
    "        if gate_type == :rxx\n",
    "            ϕ = gate[2]\n",
    "            i, j = gate[3], gate[4]\n",
    "            push!(mpo_list, rxx_gate(sites, i, j, ϕ))\n",
    "        \n",
    "        elseif gate_type == :rz\n",
    "            θ = gate[2]\n",
    "            i = gate[3]\n",
    "            push!(mpo_list, rz_gate(sites, i, θ))\n",
    "        \n",
    "        elseif gate_type == :h\n",
    "            i = gate[2]\n",
    "            push!(mpo_list, h_gate(sites, i))\n",
    "        \n",
    "        elseif gate_type == :x\n",
    "            i = gate[2]\n",
    "            push!(mpo_list, x_gate(sites, i))\n",
    "        \n",
    "        elseif gate_type == :rx\n",
    "            θ = gate[2]\n",
    "            i = gate[3]\n",
    "            push!(mpo_list, rx_gate(sites, i, θ))\n",
    "        \n",
    "        elseif gate_type == :cx\n",
    "            control = gate[2]\n",
    "            target = gate[3]\n",
    "            push!(mpo_list, cx_gate(sites, control, target))\n",
    "        \n",
    "        elseif gate_type == :measure_qpd\n",
    "            i = gate[2]\n",
    "            push!(mpo_list, proj_0_gate(sites, i))\n",
    "            push!(mpo_list, -proj_1_gate(sites,i))\n",
    "        end\n",
    "    end\n",
    "    \n",
    "    return mpo_list\n",
    "end\n"
   ]
  },
  {
   "cell_type": "code",
   "execution_count": null,
   "metadata": {},
   "outputs": [],
   "source": [
    "# Ensure 'sites' is used consistently\n",
    "sites = create_sites(n_qubits)\n",
    "\n",
    "# Build the MPO sequence with the same 'sites'\n",
    "sequence = build_mpo_sequence(sites, gates);\n",
    "# Create the MPS using the same 'sites'\n",
    "psi = productMPS(sites, \"0\")\n",
    "rho = outer(psi,psi')\n",
    "maxdim1 = 1000;  # Adjust depending on memory constraints\n",
    "cutoff1 = 1e-12;"
   ]
  },
  {
   "cell_type": "code",
   "execution_count": null,
   "metadata": {},
   "outputs": [
    {
     "ename": "LoadError",
     "evalue": "DimensionMismatch: lengths of MPOs A (5) and B (1) do not match",
     "output_type": "error",
     "traceback": [
      "DimensionMismatch: lengths of MPOs A (5) and B (1) do not match",
      "",
      "Stacktrace:",
      " [1] contract(::NDTensors.BackendSelection.Algorithm{:zipup, @NamedTuple{}}, A::MPO, B::MPO; cutoff::Float64, maxdim::Int64, mindim::Int64, kwargs::@Kwargs{})",
      "   @ ITensors.ITensorMPS C:\\Users\\pably\\.julia\\packages\\ITensors\\4M2ep\\src\\ITensorMPS\\mpo.jl:830",
      " [2] contract(::NDTensors.BackendSelection.Algorithm{:zipup, @NamedTuple{}}, A::MPO, B::MPO)",
      "   @ ITensors.ITensorMPS C:\\Users\\pably\\.julia\\packages\\ITensors\\4M2ep\\src\\ITensorMPS\\mpo.jl:815",
      " [3] contract(A::MPO, B::MPO; alg::String, kwargs::@Kwargs{})",
      "   @ ITensors.ITensorMPS C:\\Users\\pably\\.julia\\packages\\ITensors\\4M2ep\\src\\ITensorMPS\\mpo.jl:808",
      " [4] contract",
      "   @ C:\\Users\\pably\\.julia\\packages\\ITensors\\4M2ep\\src\\ITensorMPS\\mpo.jl:807 [inlined]",
      " [5] #apply#470",
      "   @ C:\\Users\\pably\\.julia\\packages\\ITensors\\4M2ep\\src\\ITensorMPS\\mpo.jl:885 [inlined]",
      " [6] product(A::MPO, B::MPO)",
      "   @ ITensors.ITensorMPS C:\\Users\\pably\\.julia\\packages\\ITensors\\4M2ep\\src\\ITensorMPS\\mpo.jl:884",
      " [7] top-level scope",
      "   @ In[180]:1"
     ]
    }
   ],
   "source": [
    "\n",
    "for mpo in sequence\n",
    "    println(\"Applying MPO...\")\n",
    "    \n",
    "    # Ensure the MPO and MPS share the same site indices\n",
    "    rho = apply(apply(mpo, rho), dag(mpo))\n",
    "end\n"
   ]
  },
  {
   "cell_type": "code",
   "execution_count": null,
   "metadata": {},
   "outputs": [
    {
     "data": {
      "text/plain": [
       "rxx_gate (generic function with 1 method)"
      ]
     },
     "execution_count": 169,
     "metadata": {},
     "output_type": "execute_result"
    }
   ],
   "source": [
    "function rxx_gate(sites, i::Int, j::Int, ϕ::Float64)\n",
    "    N = length(sites)\n",
    "    rxx_op = op(\"Rxx\", sites[i], sites[j]; ϕ=ϕ)\n",
    "    for k in 1:N\n",
    "        if k != i && k != j\n",
    "            rxx_op = rxx_op * op(\"Id\", sites[k])\n",
    "        end\n",
    "    end\n",
    "    return MPO(rxx_op, sites)\n",
    "end"
   ]
  },
  {
   "cell_type": "code",
   "execution_count": null,
   "metadata": {},
   "outputs": [
    {
     "data": {
      "text/plain": [
       "13-element Vector{Any}:\n",
       " (:rxx, 0.4, 1, 2)\n",
       " (:rxx, 0.4, 2, 3)\n",
       " (:rz, 0.4, 2)\n",
       " (:rxx, 0.4, 3, 4)\n",
       " (:rz, 0.4, 3)\n",
       " (:rxx, 0.4, 4, 5)\n",
       " (:rxx, 0.4, 1, 5)\n",
       " (:h, 5)\n",
       " (:measure_qpd, 5)\n",
       " (:h, 5)\n",
       " (:rz, 0.4, 1)\n",
       " (:rz, 0.4, 4)\n",
       " (:rz, 0.4, 5)"
      ]
     },
     "execution_count": 170,
     "metadata": {},
     "output_type": "execute_result"
    }
   ],
   "source": [
    "gates"
   ]
  },
  {
   "cell_type": "code",
   "execution_count": null,
   "metadata": {},
   "outputs": [
    {
     "name": "stdout",
     "output_type": "stream",
     "text": [
      "\n",
      "Manual Inspection of MPO:\n",
      "Site 1 Operator:\n",
      "ITensor ord=2\n",
      "Dim 1: (dim=2|id=622|\"Qubit,i1\")'\n",
      "Dim 2: (dim=2|id=622|\"Qubit,i1\")\n",
      "NDTensors.Dense{Float64, Vector{Float64}}\n",
      " 2×2\n",
      " 0.7071067811865475   0.7071067811865475\n",
      " 0.7071067811865475  -0.7071067811865475\n"
     ]
    }
   ],
   "source": [
    "inspect_mpo(mpos_test[], sites)"
   ]
  },
  {
   "cell_type": "code",
   "execution_count": null,
   "metadata": {},
   "outputs": [],
   "source": [
    "n_qubits = 3\n",
    "sites = create_sites(n_qubits)\n",
    "gates_test = [(:h, i) for i in 1:n_qubits]\n",
    "push!(gates_test, (:measure_qpd, 1))\n",
    "mpos_test = build_mpo_sequence(sites, gates_test);\n",
    "\n",
    "psi = productMPS(sites, \"0\")\n",
    "rho = outer(psi,psi')\n",
    "\n",
    "\n",
    "Z_sum_op = ITensor()\n",
    "\n",
    "os = OpSum()\n",
    "for i in 1:n_qubits\n",
    "    os += \"X\", i\n",
    "end\n",
    "Zmpo = MPO(os, sites)\n",
    "\n",
    "rho1 = apply(apply(mpos_test[1], rho), mpos_test[1])\n",
    "for mpo in mpos_test[2:end]\n",
    "    # Ensure the MPO and MPS share the same site indices\n",
    "    rho1 = rho1 + apply(apply(mpo, rho), dag(mpo))\n",
    "end"
   ]
  },
  {
   "cell_type": "code",
   "execution_count": null,
   "metadata": {},
   "outputs": [
    {
     "data": {
      "text/plain": [
       "0.0"
      ]
     },
     "execution_count": 186,
     "metadata": {},
     "output_type": "execute_result"
    }
   ],
   "source": [
    "inner(rho, Zmpo)"
   ]
  }
 ],
 "metadata": {
  "kernelspec": {
   "display_name": "Julia 1.10.5",
   "language": "julia",
   "name": "julia-1.10"
  },
  "language_info": {
   "file_extension": ".jl",
   "mimetype": "application/julia",
   "name": "julia",
   "version": "1.10.5"
  }
 },
 "nbformat": 4,
 "nbformat_minor": 2
}
