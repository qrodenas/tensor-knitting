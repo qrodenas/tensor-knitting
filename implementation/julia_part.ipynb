{
 "cells": [
  {
   "cell_type": "markdown",
   "metadata": {},
   "source": [
    "Now we parse the content of the JSON file with the QASM circuits"
   ]
  },
  {
   "cell_type": "code",
   "execution_count": 1,
   "metadata": {},
   "outputs": [],
   "source": [
    "using JSON\n",
    "using ITensors\n",
    "\n"
   ]
  },
  {
   "cell_type": "code",
   "execution_count": 2,
   "metadata": {},
   "outputs": [
    {
     "name": "stdout",
     "output_type": "stream",
     "text": [
      "Any[\"OPENQASM 3.0;\\ninclude \\\"stdgates.inc\\\";\\ngate rxx(p0) _gate_q_0, _gate_q_1 {\\n  h _gate_q_0;\\n  h _gate_q_1;\\n  cx _gate_q_0, _gate_q_1;\\n  rz(p0) _gate_q_1;\\n  cx _gate_q_0, _gate_q_1;\\n  h _gate_q_1;\\n  h _gate_q_0;\\n}\\nbit[5] observable_measurements;\\nbit[1] qpd_measurements;\\nqubit[5] q10;\\nrxx(0.4) q10[0], q10[1];\\nrxx(0.4) q10[1], q10[2];\\nrz(0.4) q10[1];\\nrxx(0.4) q10[2], q10[3];\\nrz(0.4) q10[2];\\nrxx(0.4) q10[3], q10[4];\\nrxx(0.4) q10[0], q10[4];\\nrz(0.4) q10[0];\\nrz(0.4) q10[3];\\nrz(0.4) q10[4];\\nobservable_measurements[0] = measure q10[0];\\nobservable_measurements[1] = measure q10[1];\\nobservable_measurements[2] = measure q10[2];\\nobservable_measurements[3] = measure q10[3];\\nobservable_measurements[4] = measure q10[4];\\n\", \"OPENQASM 3.0;\\ninclude \\\"stdgates.inc\\\";\\ngate rxx(p0) _gate_q_0, _gate_q_1 {\\n  h _gate_q_0;\\n  h _gate_q_1;\\n  cx _gate_q_0, _gate_q_1;\\n  rz(p0) _gate_q_1;\\n  cx _gate_q_0, _gate_q_1;\\n  h _gate_q_1;\\n  h _gate_q_0;\\n}\\nbit[5] observable_measurements;\\nbit[1] qpd_measurements;\\nqubit[5] q10;\\nrxx(0.4) q10[0], q10[1];\\nrxx(0.4) q10[1], q10[2];\\nrz(0.4) q10[1];\\nrxx(0.4) q10[2], q10[3];\\nrz(0.4) q10[2];\\nrxx(0.4) q10[3], q10[4];\\nrxx(0.4) q10[0], q10[4];\\nsx q10[4];\\nrz(0.4) q10[0];\\nrz(0.4) q10[3];\\nrz(0.4) q10[4];\\nobservable_measurements[0] = measure q10[0];\\nobservable_measurements[1] = measure q10[1];\\nobservable_measurements[2] = measure q10[2];\\nobservable_measurements[3] = measure q10[3];\\nobservable_measurements[4] = measure q10[4];\\n\", \"OPENQASM 3.0;\\ninclude \\\"stdgates.inc\\\";\\ngate rxx(p0) _gate_q_0, _gate_q_1 {\\n  h _gate_q_0;\\n  h _gate_q_1;\\n  cx _gate_q_0, _gate_q_1;\\n  rz(p0) _gate_q_1;\\n  cx _gate_q_0, _gate_q_1;\\n  h _gate_q_1;\\n  h _gate_q_0;\\n}\\ngate sxdg _gate_q_0 {\\n  s _gate_q_0;\\n  h _gate_q_0;\\n  s _gate_q_0;\\n}\\nbit[5] observable_measurements;\\nbit[1] qpd_measurements;\\nqubit[5] q10;\\nrxx(0.4) q10[0], q10[1];\\nrxx(0.4) q10[1], q10[2];\\nrz(0.4) q10[1];\\nrxx(0.4) q10[2], q10[3];\\nrz(0.4) q10[2];\\nrxx(0.4) q10[3], q10[4];\\nrxx(0.4) q10[0], q10[4];\\nsxdg q10[4];\\nrz(0.4) q10[0];\\nrz(0.4) q10[3];\\nrz(0.4) q10[4];\\nobservable_measurements[0] = measure q10[0];\\nobservable_measurements[1] = measure q10[1];\\nobservable_measurements[2] = measure q10[2];\\nobservable_measurements[3] = measure q10[3];\\nobservable_measurements[4] = measure q10[4];\\n\", \"OPENQASM 3.0;\\ninclude \\\"stdgates.inc\\\";\\ngate rxx(p0) _gate_q_0, _gate_q_1 {\\n  h _gate_q_0;\\n  h _gate_q_1;\\n  cx _gate_q_0, _gate_q_1;\\n  rz(p0) _gate_q_1;\\n  cx _gate_q_0, _gate_q_1;\\n  h _gate_q_1;\\n  h _gate_q_0;\\n}\\nbit[5] observable_measurements;\\nbit[1] qpd_measurements;\\nqubit[5] q10;\\nrxx(0.4) q10[0], q10[1];\\nrxx(0.4) q10[1], q10[2];\\nrz(0.4) q10[1];\\nrxx(0.4) q10[2], q10[3];\\nrz(0.4) q10[2];\\nrxx(0.4) q10[3], q10[4];\\nrxx(0.4) q10[0], q10[4];\\nh q10[4];\\nqpd_measurements[0] = measure q10[4];\\nh q10[4];\\nrz(0.4) q10[0];\\nrz(0.4) q10[3];\\nrz(0.4) q10[4];\\nobservable_measurements[0] = measure q10[0];\\nobservable_measurements[1] = measure q10[1];\\nobservable_measurements[2] = measure q10[2];\\nobservable_measurements[3] = measure q10[3];\\nobservable_measurements[4] = measure q10[4];\\n\", \"OPENQASM 3.0;\\ninclude \\\"stdgates.inc\\\";\\ngate rxx(p0) _gate_q_0, _gate_q_1 {\\n  h _gate_q_0;\\n  h _gate_q_1;\\n  cx _gate_q_0, _gate_q_1;\\n  rz(p0) _gate_q_1;\\n  cx _gate_q_0, _gate_q_1;\\n  h _gate_q_1;\\n  h _gate_q_0;\\n}\\nbit[5] observable_measurements;\\nbit[1] qpd_measurements;\\nqubit[5] q10;\\nrxx(0.4) q10[0], q10[1];\\nrxx(0.4) q10[1], q10[2];\\nrz(0.4) q10[1];\\nrxx(0.4) q10[2], q10[3];\\nrz(0.4) q10[2];\\nrxx(0.4) q10[3], q10[4];\\nrxx(0.4) q10[0], q10[4];\\nh q10[4];\\nqpd_measurements[0] = measure q10[4];\\nh q10[4];\\nrz(0.4) q10[0];\\nrz(0.4) q10[3];\\nrz(0.4) q10[4];\\nobservable_measurements[0] = measure q10[0];\\nobservable_measurements[1] = measure q10[1];\\nobservable_measurements[2] = measure q10[2];\\nobservable_measurements[3] = measure q10[3];\\nobservable_measurements[4] = measure q10[4];\\n\", \"OPENQASM 3.0;\\ninclude \\\"stdgates.inc\\\";\\ngate rxx(p0) _gate_q_0, _gate_q_1 {\\n  h _gate_q_0;\\n  h _gate_q_1;\\n  cx _gate_q_0, _gate_q_1;\\n  rz(p0) _gate_q_1;\\n  cx _gate_q_0, _gate_q_1;\\n  h _gate_q_1;\\n  h _gate_q_0;\\n}\\nbit[5] observable_measurements;\\nbit[1] qpd_measurements;\\nqubit[5] q10;\\nrxx(0.4) q10[0], q10[1];\\nrxx(0.4) q10[1], q10[2];\\nrz(0.4) q10[1];\\nrxx(0.4) q10[2], q10[3];\\nrz(0.4) q10[2];\\nrxx(0.4) q10[3], q10[4];\\nrxx(0.4) q10[0], q10[4];\\nx q10[4];\\nrz(0.4) q10[0];\\nrz(0.4) q10[3];\\nrz(0.4) q10[4];\\nobservable_measurements[0] = measure q10[0];\\nobservable_measurements[1] = measure q10[1];\\nobservable_measurements[2] = measure q10[2];\\nobservable_measurements[3] = measure q10[3];\\nobservable_measurements[4] = measure q10[4];\\n\"]"
     ]
    }
   ],
   "source": [
    "#Read and parse the json\n",
    "file_content = read(\"circuits.json\", String)\n",
    "qasm_list = JSON.parse(file_content)\n",
    "\n",
    "# Now, qasm_list is an array of QASM strings\n",
    "print(qasm_list)"
   ]
  },
  {
   "cell_type": "code",
   "execution_count": 3,
   "metadata": {},
   "outputs": [
    {
     "data": {
      "text/plain": [
       "parse_qasm (generic function with 1 method)"
      ]
     },
     "execution_count": 3,
     "metadata": {},
     "output_type": "execute_result"
    }
   ],
   "source": [
    "function parse_qasm(qasm_string::String)\n",
    "    lines = split(qasm_string, \"\\n\")\n",
    "    n_qubits = 0\n",
    "    gates = []\n",
    "\n",
    "    for line in lines\n",
    "        line = strip(split(line, \"//\")[1])\n",
    "        if isempty(line)\n",
    "            continue\n",
    "        end\n",
    "\n",
    "        # Qubit number\n",
    "        if startswith(line, \"qubit[\")\n",
    "            m = match(r\"qubit\\[(\\d+)\\]\\s+\\w+;\", line)\n",
    "            if m !== nothing\n",
    "                n_qubits = parse(Int, m.captures[1])\n",
    "            end\n",
    "\n",
    "        # RXX Gate\n",
    "        elseif startswith(line, \"rxx(\")\n",
    "            m = match(r\"rxx\\((.*?)\\)\\s+q10\\[(\\d+)\\],\\s*q10\\[(\\d+)\\];\", line)\n",
    "            if m !== nothing\n",
    "                θ = parse(Float64, m.captures[1])\n",
    "                q1 = parse(Int, m.captures[2]) + 1\n",
    "                q2 = parse(Int, m.captures[3]) + 1\n",
    "                push!(gates, (:rxx, θ, q1, q2))\n",
    "            end\n",
    "\n",
    "        # RZ Gate\n",
    "        elseif startswith(line, \"rz(\")\n",
    "            m = match(r\"rz\\((.*?)\\)\\s+q10\\[(\\d+)\\];\", line)\n",
    "            if m !== nothing\n",
    "                θ = parse(Float64, m.captures[1])\n",
    "                q = parse(Int, m.captures[2]) + 1\n",
    "                push!(gates, (:rz, θ, q))\n",
    "            end\n",
    "\n",
    "        # H Gate\n",
    "        elseif startswith(line, \"h \")\n",
    "            m = match(r\"h\\s+q10\\[(\\d+)\\];\", line)\n",
    "            if m !== nothing\n",
    "                q = parse(Int, m.captures[1]) + 1\n",
    "                push!(gates, (:h, q))\n",
    "            end\n",
    "\n",
    "        # CX Gate\n",
    "        elseif startswith(line, \"cx \")\n",
    "            m = match(r\"cx\\s+q10\\[(\\d+)\\],\\s*q10\\[(\\d+)\\];\", line)\n",
    "            if m !== nothing\n",
    "                q1 = parse(Int, m.captures[1]) + 1\n",
    "                q2 = parse(Int, m.captures[2]) + 1\n",
    "                push!(gates, (:cx, q1, q2))\n",
    "            end\n",
    "\n",
    "        # QPD Measurement\n",
    "        elseif startswith(line, \"qpd_measurements[\")\n",
    "            m = match(r\"qpd_measurements\\[(\\d+)\\]\\s*=\\s*measure\\s+q10\\[(\\d+)\\];\", line)\n",
    "            if m !== nothing\n",
    "                # meas_index = parse(Int, m.captures[1]) + 1\n",
    "                qubit = parse(Int, m.captures[2]) + 1\n",
    "                # push!(gates, (:measure_qpd, meas_index, qubit))\n",
    "                push!(gates, (:measure_qpd, qubit))\n",
    "            end\n",
    "\n",
    "        end\n",
    "    end\n",
    "\n",
    "    return n_qubits, gates\n",
    "end\n"
   ]
  },
  {
   "cell_type": "code",
   "execution_count": 4,
   "metadata": {},
   "outputs": [
    {
     "name": "stdout",
     "output_type": "stream",
     "text": [
      "Any[(:rxx, 0.4, 1, 2), (:rxx, 0.4, 2, 3), (:rz, 0.4, 2), (:rxx, 0.4, 3, 4), (:rz, 0.4, 3), (:rxx, 0.4, 4, 5), (:rxx, 0.4, 1, 5), (:h, 5), (:measure_qpd, 5), (:h, 5), (:rz, 0.4, 1), (:rz, 0.4, 4), (:rz, 0.4, 5)]"
     ]
    }
   ],
   "source": [
    "qasm_str = qasm_list[4]\n",
    "n_qubits, gates = parse_qasm(qasm_str);\n",
    "print(gates)"
   ]
  },
  {
   "cell_type": "code",
   "execution_count": 5,
   "metadata": {},
   "outputs": [
    {
     "data": {
      "text/plain": [
       "create_sites (generic function with 1 method)"
      ]
     },
     "execution_count": 5,
     "metadata": {},
     "output_type": "execute_result"
    }
   ],
   "source": [
    "function create_sites(n::Int)\n",
    "    return [Index(2, \"Qubit,i$i\") for i in 1:n]\n",
    "end"
   ]
  },
  {
   "cell_type": "code",
   "execution_count": 6,
   "metadata": {},
   "outputs": [
    {
     "data": {
      "text/plain": [
       "proj_1_mpo (generic function with 1 method)"
      ]
     },
     "execution_count": 6,
     "metadata": {},
     "output_type": "execute_result"
    }
   ],
   "source": [
    "# Rz Gate with angle θ\n",
    "function rz_gate(sites, i::Int, θ::Float64)\n",
    "    N = length(sites)\n",
    "    rz_mpo = MPO(sites)\n",
    "    for j in 1:N\n",
    "        rz_mpo[j] = op(\"Id\", sites[j])\n",
    "    end\n",
    "    rz_mpo[i] = op(\"Rz\", sites[i]; θ=θ)\n",
    "    return rz_mpo\n",
    "end\n",
    "\n",
    "# H \n",
    "function h_gate(sites, i::Int)\n",
    "    N = length(sites)\n",
    "    h_mpo = MPO(sites)\n",
    "    for j in 1:N\n",
    "        h_mpo[j] = op(\"Id\", sites[j])\n",
    "    end\n",
    "    h_mpo[i] = op(\"H\", sites[i])\n",
    "    return h_mpo\n",
    "end\n",
    "\n",
    "# RXX \n",
    "\n",
    "function rxx_gate(sites, i::Int, j::Int, ϕ::Float64)\n",
    "    N = length(sites)\n",
    "    rxx_mpo = MPO(sites)\n",
    "    \n",
    "    # Assign identity operators to all sites\n",
    "    for k in 1:N\n",
    "        rxx_mpo[k] = op(\"Id\", sites[k])\n",
    "    end\n",
    "    \n",
    "    # Assign RXX operator with the specified angle ϕ to sites i and j\n",
    "    rxx_mpo[i] = op(\"Rxx\", sites[i], sites[j]; ϕ=ϕ)\n",
    "    # rxx_mpo[j] = op(\"Rxx\", sites[i], sites[j]; ϕ=ϕ) #I think we don't need this.\n",
    "    \n",
    "    return rxx_mpo\n",
    "end\n",
    "\n",
    "# CX Gate\n",
    "function cx_gate(sites, control::Int, target::Int)\n",
    "    N = length(sites)\n",
    "    cx_mpo = MPO(sites)\n",
    "    for j in 1:N\n",
    "        cx_mpo[j] = op(\"Id\", sites[j])\n",
    "    end\n",
    "    cx_mpo[control] = op(\"CX\", sites[control], sites[target])\n",
    "\n",
    "    return cx_mpo\n",
    "end\n",
    "\n",
    "# X Gate\n",
    "function x_gate(sites, i::Int)\n",
    "    N = length(sites)\n",
    "    x_mpo = MPO(sites)\n",
    "    for j in 1:N\n",
    "        x_mpo[j] = op(\"Id\", sites[j])\n",
    "    end\n",
    "    x_mpo[i] = op(\"X\", sites[i])\n",
    "    return x_mpo\n",
    "end\n",
    "\n",
    "# Rx Gate with angle θ\n",
    "function rx_gate(sites, i::Int, θ::Float64)\n",
    "    N = length(sites)\n",
    "    rx_mpo = MPO(sites)\n",
    "    for j in 1:N\n",
    "        rx_mpo[j] = op(\"Id\", sites[j])\n",
    "    end\n",
    "    rx_mpo[i] = op(\"Rx\", sites[i]; θ=θ)\n",
    "    return rx_mpo\n",
    "end\n",
    "\n",
    "# MPO for the 0 projector (|0⟩⟨0|)\n",
    "function proj_0_mpo(sites, i::Int)\n",
    "    N = length(sites)\n",
    "    proj_mpo = MPO(sites)\n",
    "    for j in 1:N\n",
    "        proj_mpo[j] = op(\"Id\", sites[j])\n",
    "    end\n",
    "    proj_mpo[i] = op(\"Proj0\", sites[i])  # Projector onto |0⟩\n",
    "    return proj_mpo\n",
    "end\n",
    "\n",
    "# MPO for the 1 projector (|1⟩⟨1|)\n",
    "function proj_1_mpo(sites, i::Int)\n",
    "    N = length(sites)\n",
    "    proj_mpo = MPO(sites)\n",
    "    for j in 1:N\n",
    "        proj_mpo[j] = op(\"Id\", sites[j])\n",
    "    end\n",
    "    proj_mpo[i] = op(\"Proj1\", sites[i])  # Projector onto |1⟩\n",
    "    return proj_mpo\n",
    "end\n",
    "\n"
   ]
  },
  {
   "cell_type": "code",
   "execution_count": 7,
   "metadata": {},
   "outputs": [
    {
     "data": {
      "text/plain": [
       "proj_1_gate (generic function with 1 method)"
      ]
     },
     "execution_count": 7,
     "metadata": {},
     "output_type": "execute_result"
    }
   ],
   "source": [
    "# Rz Gate with angle θ\n",
    "function rz_gate(sites, i::Int, θ::Float64)\n",
    "    return op(\"Rz\", sites[i]; θ=θ)\n",
    "end\n",
    "\n",
    "# Hadamard Gate\n",
    "function h_gate(sites, i::Int)\n",
    "    return op(\"H\", sites[i])\n",
    "end\n",
    "\n",
    "# RXX Gate with angle ϕ\n",
    "function rxx_gate(sites, i::Int, j::Int, ϕ::Float64)\n",
    "    return op(\"Rxx\", sites[i], sites[j]; ϕ=ϕ)\n",
    "end\n",
    "\n",
    "# CX (Controlled-X) Gate\n",
    "function cx_gate(sites, control::Int, target::Int)\n",
    "    return op(\"CX\", sites[control], sites[target])\n",
    "end\n",
    "\n",
    "# X Gate\n",
    "function x_gate(sites, i::Int)\n",
    "    return op(\"X\", sites[i])\n",
    "end\n",
    "\n",
    "# Rx Gate with angle θ\n",
    "function rx_gate(sites, i::Int, θ::Float64)\n",
    "    return op(\"Rx\", sites[i]; θ=θ)\n",
    "end\n",
    "\n",
    "# Projector onto |0⟩ (|0⟩⟨0|)\n",
    "function proj_0_gate(sites, i::Int)\n",
    "    return op(\"Proj0\", sites[i])\n",
    "end\n",
    "\n",
    "# Projector onto |1⟩ (|1⟩⟨1|)\n",
    "function proj_1_gate(sites, i::Int)\n",
    "    return op(\"Proj1\", sites[i])\n",
    "end\n"
   ]
  },
  {
   "cell_type": "markdown",
   "metadata": {},
   "source": [
    "Another way of defining MPOs"
   ]
  },
  {
   "cell_type": "code",
   "execution_count": 8,
   "metadata": {},
   "outputs": [
    {
     "data": {
      "text/plain": [
       "proj_1_gate (generic function with 1 method)"
      ]
     },
     "execution_count": 8,
     "metadata": {},
     "output_type": "execute_result"
    }
   ],
   "source": [
    "using ITensors\n",
    "\n",
    "# Rz Gate with angle θ\n",
    "function rz_gate(sites, i::Int, θ::Float64)\n",
    "    N = length(sites)\n",
    "    rz_op = op(\"Rz\", sites[i]; θ=θ)\n",
    "    for k in 1:N\n",
    "        if k != i\n",
    "            rz_op = rz_op * op(\"Id\", sites[k])\n",
    "        end\n",
    "    end\n",
    "    return MPO(rz_op, sites)\n",
    "end\n",
    "\n",
    "# Hadamard Gate\n",
    "function h_gate(sites, i::Int)\n",
    "    N = length(sites)\n",
    "    h_op = op(\"H\", sites[i])\n",
    "    for k in 1:N\n",
    "        if k != i\n",
    "            h_op = h_op * op(\"Id\", sites[k])\n",
    "        end\n",
    "    end\n",
    "    return MPO(h_op, sites)\n",
    "end\n",
    "\n",
    "# RXX Gate with angle ϕ\n",
    "function rxx_gate(sites, i::Int, j::Int, ϕ::Float64)\n",
    "    N = length(sites)\n",
    "    rxx_op = op(\"Rxx\", sites[i], sites[j]; ϕ=ϕ)\n",
    "    for k in 1:N\n",
    "        if k != i && k != j\n",
    "            rxx_op = rxx_op * op(\"Id\", sites[k])\n",
    "        end\n",
    "    end\n",
    "    return MPO(rxx_op, sites)\n",
    "end\n",
    "\n",
    "# CX (Controlled-X) Gate\n",
    "function cx_gate(sites, control::Int, target::Int)\n",
    "    N = length(sites)\n",
    "    cx_op = op(\"CX\", sites[control], sites[target])\n",
    "    for k in 1:N\n",
    "        if k != control && k != target\n",
    "            cx_op = cx_op * op(\"Id\", sites[k])\n",
    "        end\n",
    "    end\n",
    "    return MPO(cx_op, sites)\n",
    "end\n",
    "\n",
    "# X Gate\n",
    "function x_gate(sites, i::Int)\n",
    "    N = length(sites)\n",
    "    x_op = op(\"X\", sites[i])\n",
    "    for k in 1:N\n",
    "        if k != i\n",
    "            x_op = x_op * op(\"Id\", sites[k])\n",
    "        end\n",
    "    end\n",
    "    return MPO(x_op, sites)\n",
    "end\n",
    "\n",
    "# Rx Gate with angle θ\n",
    "function rx_gate(sites, i::Int, θ::Float64)\n",
    "    N = length(sites)\n",
    "    rx_op = op(\"Rx\", sites[i]; θ=θ)\n",
    "    for k in 1:N\n",
    "        if k != i\n",
    "            rx_op = rx_op * op(\"Id\", sites[k])\n",
    "        end\n",
    "    end\n",
    "    return MPO(rx_op, sites)\n",
    "end\n",
    "\n",
    "# Projector onto |0⟩ (|0⟩⟨0|)\n",
    "function proj_0_gate(sites, i::Int)\n",
    "    N = length(sites)\n",
    "    proj0_op = op(\"Proj0\", sites[i])\n",
    "    for k in 1:N\n",
    "        if k != i\n",
    "            proj0_op = proj0_op * op(\"Id\", sites[k])\n",
    "        end\n",
    "    end\n",
    "    return MPO(proj0_op, sites)\n",
    "end\n",
    "\n",
    "# Projector onto |1⟩ (|1⟩⟨1|)\n",
    "function proj_1_gate(sites, i::Int)\n",
    "    N = length(sites)\n",
    "    proj1_op = op(\"Proj1\", sites[i])\n",
    "    for k in 1:N\n",
    "        if k != i\n",
    "            proj1_op = proj1_op * op(\"Id\", sites[k])\n",
    "        end\n",
    "    end\n",
    "    return MPO(proj1_op, sites)\n",
    "end\n"
   ]
  },
  {
   "cell_type": "code",
   "execution_count": 9,
   "metadata": {},
   "outputs": [
    {
     "data": {
      "text/plain": [
       "inspect_mpo (generic function with 1 method)"
      ]
     },
     "execution_count": 9,
     "metadata": {},
     "output_type": "execute_result"
    }
   ],
   "source": [
    "\n",
    "# check if the MPO creation was sucessful\n",
    "function inspect_mpo(mpo::MPO, sites::Vector)\n",
    "    N = length(sites) \n",
    "\n",
    "    println(\"\\nManual Inspection of MPO:\")\n",
    "    for site_idx in 1:N\n",
    "        println(\"Site $site_idx Operator:\")\n",
    "        println(mpo[site_idx])\n",
    "    end\n",
    "end"
   ]
  },
  {
   "cell_type": "code",
   "execution_count": 10,
   "metadata": {},
   "outputs": [],
   "source": [
    "# # Example usage\n",
    "# N = 2\n",
    "# sites1 = create_sites(N)\n",
    "# θ = π / 4  \n",
    "# rxx_MPO = cx_gate(sites1,1, 2)  \n",
    "# inspect_mpo(rxx_MPO, sites1)"
   ]
  },
  {
   "cell_type": "code",
   "execution_count": 11,
   "metadata": {},
   "outputs": [
    {
     "data": {
      "text/plain": [
       "build_mpo_sequence (generic function with 1 method)"
      ]
     },
     "execution_count": 11,
     "metadata": {},
     "output_type": "execute_result"
    }
   ],
   "source": [
    "function build_mpo_sequence(sites, gates)\n",
    "    N = length(sites)\n",
    "    mpo_list = []\n",
    "    \n",
    "    for gate in gates\n",
    "        gate_type = gate[1]\n",
    "        \n",
    "        if gate_type == :rxx\n",
    "            ϕ = gate[2]\n",
    "            i, j = gate[3], gate[4]\n",
    "            push!(mpo_list, rxx_gate(sites, i, j, ϕ))\n",
    "        \n",
    "        elseif gate_type == :rz\n",
    "            θ = gate[2]\n",
    "            i = gate[3]\n",
    "            push!(mpo_list, rz_gate(sites, i, θ))\n",
    "        \n",
    "        elseif gate_type == :h\n",
    "            i = gate[2]\n",
    "            push!(mpo_list, h_gate(sites, i))\n",
    "        \n",
    "        elseif gate_type == :x\n",
    "            i = gate[2]\n",
    "            push!(mpo_list, x_gate(sites, i))\n",
    "        \n",
    "        elseif gate_type == :rx\n",
    "            θ = gate[2]\n",
    "            i = gate[3]\n",
    "            push!(mpo_list, rx_gate(sites, i, θ))\n",
    "        \n",
    "        elseif gate_type == :cx\n",
    "            control = gate[2]\n",
    "            target = gate[3]\n",
    "            push!(mpo_list, cx_gate(sites, control, target))\n",
    "        \n",
    "        elseif gate_type == :measure_qpd\n",
    "            # i = gate[2]\n",
    "            # if rand() < 0.5\n",
    "            #     push!(mpo_list, proj_0_mpo(sites, i))\n",
    "            # else\n",
    "            #     push!(mpo_list, proj_1_mpo(sites, i))\n",
    "            # end\n",
    "        end\n",
    "    end\n",
    "    \n",
    "    return mpo_list\n",
    "end\n"
   ]
  },
  {
   "cell_type": "code",
   "execution_count": 12,
   "metadata": {},
   "outputs": [],
   "source": [
    "# Ensure 'sites' is used consistently\n",
    "sites = create_sites(n_qubits)\n",
    "\n",
    "# Build the MPO sequence with the same 'sites'\n",
    "sequence = build_mpo_sequence(sites, gates);\n",
    "# Create the MPS using the same 'sites'\n",
    "psi = productMPS(sites, \"0\")\n",
    "rho = outer(psi,psi')\n",
    "maxdim1 = 1000;  # Adjust depending on memory constraints\n",
    "cutoff1 = 1e-12;"
   ]
  },
  {
   "cell_type": "code",
   "execution_count": 13,
   "metadata": {},
   "outputs": [
    {
     "name": "stdout",
     "output_type": "stream",
     "text": [
      "Applying MPO...\n",
      "Applying MPO...\n",
      "Applying MPO...\n",
      "Applying MPO...\n",
      "Applying MPO...\n",
      "Applying MPO...\n",
      "Applying MPO...\n",
      "Applying MPO...\n",
      "Applying MPO...\n",
      "Applying MPO...\n",
      "Applying MPO...\n",
      "Applying MPO...\n"
     ]
    }
   ],
   "source": [
    "\n",
    "for mpo in sequence\n",
    "    println(\"Applying MPO...\")\n",
    "    \n",
    "    # Ensure the MPO and MPS share the same site indices\n",
    "    rho = apply(apply(mpo, rho), dag(mpo))\n",
    "end\n"
   ]
  },
  {
   "cell_type": "code",
   "execution_count": 14,
   "metadata": {},
   "outputs": [
    {
     "data": {
      "text/plain": [
       "rxx_gate (generic function with 1 method)"
      ]
     },
     "execution_count": 14,
     "metadata": {},
     "output_type": "execute_result"
    }
   ],
   "source": [
    "function rxx_gate(sites, i::Int, j::Int, ϕ::Float64)\n",
    "    N = length(sites)\n",
    "    rxx_op = op(\"Rxx\", sites[i], sites[j]; ϕ=ϕ)\n",
    "    for k in 1:N\n",
    "        if k != i && k != j\n",
    "            rxx_op = rxx_op * op(\"Id\", sites[k])\n",
    "        end\n",
    "    end\n",
    "    return MPO(rxx_op, sites)\n",
    "end"
   ]
  },
  {
   "cell_type": "code",
   "execution_count": 44,
   "metadata": {},
   "outputs": [],
   "source": [
    "gates_test = [(:x, i) for i in 1:n_qubits]\n",
    "mpos_test = build_mpo_sequence(sites, gates_test);\n",
    "\n",
    "psi = productMPS(sites, \"0\")\n",
    "rho = outer(psi,psi')\n",
    "\n",
    "\n",
    "Z_sum_op = ITensor()\n",
    "\n",
    "os = OpSum()\n",
    "for i in 1:n_qubits\n",
    "    os += \"Z\", i\n",
    "end\n",
    "Zmpo = MPO(os, sites)\n",
    "\n",
    "\n",
    "for mpo in mpos_test\n",
    "    # Ensure the MPO and MPS share the same site indices\n",
    "    rho = apply(apply(mpo, rho), dag(mpo))\n",
    "end"
   ]
  },
  {
   "cell_type": "code",
   "execution_count": 43,
   "metadata": {},
   "outputs": [
    {
     "data": {
      "text/plain": [
       "5.0"
      ]
     },
     "execution_count": 43,
     "metadata": {},
     "output_type": "execute_result"
    }
   ],
   "source": [
    "inner(rho, Zmpo)"
   ]
  }
 ],
 "metadata": {
  "kernelspec": {
   "display_name": "Julia 1.10.5",
   "language": "julia",
   "name": "julia-1.10"
  },
  "language_info": {
   "file_extension": ".jl",
   "mimetype": "application/julia",
   "name": "julia",
   "version": "1.10.5"
  }
 },
 "nbformat": 4,
 "nbformat_minor": 2
}
