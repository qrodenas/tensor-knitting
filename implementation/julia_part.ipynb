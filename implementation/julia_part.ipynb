{
 "cells": [
  {
   "cell_type": "markdown",
   "metadata": {},
   "source": [
    "Now we parse the content of the JSON file with the QASM circuits"
   ]
  },
  {
   "cell_type": "code",
   "execution_count": 6,
   "metadata": {},
   "outputs": [],
   "source": [
    "using JSON\n",
    "using ITensors\n",
    "\n",
    "# Run only once or gives problems later\n",
    "# include(\"utils.jl\")\n",
    "# using .Utils\n"
   ]
  },
  {
   "cell_type": "code",
   "execution_count": 7,
   "metadata": {},
   "outputs": [
    {
     "name": "stdout",
     "output_type": "stream",
     "text": [
      "Completed applying MPO sequence for subcircuit B1.\n",
      "Completed applying MPO sequence for subcircuit B2.\n",
      "Completed applying MPO sequence for subcircuit B3.\n",
      "Completed applying MPO sequence for subcircuit B4.\n",
      "Completed applying MPO sequence for subcircuit B5.\n",
      "Completed applying MPO sequence for subcircuit B6.\n",
      "Completed applying MPO sequence for subcircuit A1.\n",
      "Completed applying MPO sequence for subcircuit A2.\n",
      "Completed applying MPO sequence for subcircuit A3.\n",
      "Completed applying MPO sequence for subcircuit A4.\n",
      "Completed applying MPO sequence for subcircuit A5.\n",
      "Completed applying MPO sequence for subcircuit A6.\n"
     ]
    }
   ],
   "source": [
    "json_filename = \"subcircuits.json\"  \n",
    "basis_gates = [\"h\", \"rx\", \"ry\", \"rz\", \"rxx\", \"rzz\", \"ryy\", \"cx\"]\n",
    "\n",
    "circuits_data, expval_knitting, coefficients = parse_subcircuits(json_filename);\n",
    "all_mpo_sequences, all_rhos, observables = mpo_sequence_apply(circuits_data,basis_gates);"
   ]
  },
  {
   "cell_type": "code",
   "execution_count": 8,
   "metadata": {},
   "outputs": [
    {
     "name": "stdout",
     "output_type": "stream",
     "text": [
      "==============================\n",
      "• Expected Value Knitting: 7.49354069\n",
      "• Expected Value Tensors:  7.49354069\n",
      "• Discrepancy    : 0.0%\n",
      "==============================\n",
      "\n"
     ]
    }
   ],
   "source": [
    "expval_tensors = sum(coefficients[i] * (sum((inner(observables[\"A\"][j],all_rhos[\"A\"][i]) * inner(observables[\"B\"][j],all_rhos[\"B\"][i])) for j in 1:length(observables[\"A\"]))) for i in 1:length(coefficients)).re\n",
    "\n",
    "discrepancy = abs(round(100*(expval_knitting - expval_tensors)/expval_knitting, digits = 4))\n",
    "\n",
    "println(\"\"\"\n",
    "==============================\n",
    "• Expected Value Knitting: $(round(expval_knitting, digits = 8))\n",
    "• Expected Value Tensors:  $(round(expval_tensors, digits = 8))\n",
    "• Discrepancy    : $discrepancy%\n",
    "==============================\n",
    "\"\"\")\n"
   ]
  },
  {
   "cell_type": "code",
   "execution_count": 9,
   "metadata": {},
   "outputs": [
    {
     "data": {
      "text/plain": [
       "MPO\n",
       "[1] ((dim=2|id=724|\"Qubit,i1\")', (dim=2|id=724|\"Qubit,i1\"))\n"
      ]
     },
     "execution_count": 9,
     "metadata": {},
     "output_type": "execute_result"
    }
   ],
   "source": [
    "os = OpSum()\n",
    "os += \"Y\", 1\n",
    "sites = create_sites(1)\n",
    "Y_gate = MPO(os, sites)"
   ]
  },
  {
   "cell_type": "code",
   "execution_count": 10,
   "metadata": {},
   "outputs": [
    {
     "name": "stdout",
     "output_type": "stream",
     "text": [
      "\n",
      "Manual Inspection of MPO:\n",
      "Site 1 Operator:\n",
      "ITensor ord=2\n",
      "Dim 1: (dim=2|id=724|\"Qubit,i1\")'\n",
      "Dim 2: (dim=2|id=724|\"Qubit,i1\")\n",
      "NDTensors.Dense{ComplexF64, Vector{ComplexF64}}\n",
      " 2×2\n",
      " 0.0 + 0.0im  0.0 - 1.0im\n",
      " 0.0 + 1.0im  0.0 + 0.0im\n"
     ]
    }
   ],
   "source": [
    "inspect_mpo(Y_gate, sites)"
   ]
  }
 ],
 "metadata": {
  "kernelspec": {
   "display_name": "Julia 1.10.5",
   "language": "julia",
   "name": "julia-1.10"
  },
  "language_info": {
   "file_extension": ".jl",
   "mimetype": "application/julia",
   "name": "julia",
   "version": "1.10.5"
  }
 },
 "nbformat": 4,
 "nbformat_minor": 2
}
