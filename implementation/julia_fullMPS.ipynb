{
 "cells": [
  {
   "cell_type": "markdown",
   "metadata": {},
   "source": [
    "Now we parse the content of the JSON file with the QASM circuits"
   ]
  },
  {
   "cell_type": "code",
   "execution_count": 1,
   "metadata": {},
   "outputs": [],
   "source": [
    "using ITensors, ITensorMPS\n",
    "using IterTools\n",
    "using Plots\n",
    "using Glob\n",
    "using JSON\n",
    "\n",
    "include(\"simulation/mpo_simulation.jl\")\n",
    "using .MPOSimulation\n",
    "include(\"utils/utils.jl\")\n",
    "using .Utils\n",
    "include(\"simulation/mps_simulation.jl\")\n",
    "using .MPSSimulation\n",
    "include(\"simulation/reconstruct_expectation.jl\")\n",
    "using .ReconstructExpectation\n"
   ]
  },
  {
   "cell_type": "code",
   "execution_count": 18,
   "metadata": {},
   "outputs": [
    {
     "name": "stdout",
     "output_type": "stream",
     "text": [
      "Completed applying MPO sequence for subcircuit A1.\n",
      "==============================\n",
      "• Expected Value Knitting: 4.48418344\n",
      "• Expected Value Tensors:  4.48418487\n",
      "• Discrepancy            : 0.0%\n",
      "==============================\n",
      "\n"
     ]
    }
   ],
   "source": [
    "# Simulation using MPS - single timestep\n",
    "json_filename = \"subcircuits/subcircuits.json\"  \n",
    "basis_gates = [\"h\", \"rx\", \"ry\", \"rz\", \"rxx\",\"rzz\", \"ryy\", \"cx\"]\n",
    "cutoff = 1e-12\n",
    "maxdim = 50\n",
    "method = \"densitymatrix\" #currently this is not used\n",
    "\n",
    "\n",
    "circuits_data, expval_knitting, coefficients = parse_subcircuits(json_filename);\n",
    "all_mpo_sequences = build_all_mpo_sequences(circuits_data, basis_gates);\n",
    "all_psis = apply_mpo_sequences(circuits_data, all_mpo_sequences, cutoff, maxdim, method);\n",
    "expval_tensors = reconstruct_expectation(all_psis, coefficients);\n",
    "\n",
    "discrepancy = abs(round(100 * (expval_knitting - expval_tensors) / expval_knitting, digits=4))\n",
    "println(\"\"\"\n",
    "==============================\n",
    "• Expected Value Knitting: $(round(expval_knitting, digits=8))\n",
    "• Expected Value Tensors:  $(round(expval_tensors, digits=8))\n",
    "• Discrepancy            : $discrepancy%\n",
    "==============================\n",
    "\"\"\")\n"
   ]
  },
  {
   "cell_type": "code",
   "execution_count": 17,
   "metadata": {},
   "outputs": [
    {
     "name": "stdout",
     "output_type": "stream",
     "text": [
      "Completed applying MPO sequence for subcircuit A1.\n",
      "==============================\n",
      "• File: subcircuits.json\n",
      "• Expected Value Knitting: 4.48418344\n",
      "• Expected Value Tensors:  4.48418487\n",
      "• Discrepancy            : 0.0%\n",
      "==============================\n",
      "\n"
     ]
    }
   ],
   "source": [
    "# Simulation using MPS - multiple timesteps\n",
    "basis_gates = [\"h\", \"rx\", \"ry\", \"rz\", \"rxx\", \"rzz\", \"ryy\", \"cx\"]\n",
    "cutoff = 1e-12\n",
    "maxdim = 50\n",
    "method = \"densitymatrix\" # Currently not used\n",
    "\n",
    "# Directory containing the subcircuit JSON files\n",
    "subcircuits_dir = \"subcircuits/\"\n",
    "\n",
    "json_files = Glob.glob(joinpath(subcircuits_dir, \"*.json\"))\n",
    "\n",
    "struct ExpValResult\n",
    "    filename::String\n",
    "    expval_knitting::Float64\n",
    "    expval_tensors::Float64\n",
    "    discrepancy::Float64\n",
    "end\n",
    "\n",
    "expval_results = ExpValResult[] \n",
    "\n",
    "for json_filename in json_files\n",
    "\n",
    "    circuits_data, expval_knitting, coefficients = parse_subcircuits(json_filename)\n",
    "    all_mpo_sequences = build_all_mpo_sequences(circuits_data, basis_gates)\n",
    "    all_psis = apply_mpo_sequences(circuits_data, all_mpo_sequences, cutoff, maxdim, method)\n",
    "    expval_tensors = reconstruct_expectation(all_psis, coefficients)\n",
    "    \n",
    "    discrepancy = abs(round(100 * (expval_knitting - expval_tensors) / expval_knitting, digits=4))\n",
    "    \n",
    "    println(\"\"\"\n",
    "    ==============================\n",
    "    • File: $(basename(json_filename))\n",
    "    • Expected Value Knitting: $(round(expval_knitting, digits=8))\n",
    "    • Expected Value Tensors:  $(round(expval_tensors, digits=8))\n",
    "    • Discrepancy            : $discrepancy%\n",
    "    ==============================\n",
    "    \"\"\")\n",
    "    \n",
    "    push!(expval_results, ExpValResult(basename(json_filename), expval_knitting, expval_tensors, discrepancy))\n",
    "end\n",
    "\n"
   ]
  },
  {
   "cell_type": "markdown",
   "metadata": {},
   "source": [
    "<br/><br/>\n",
    "<br/><br/>\n",
    "<br/><br/>\n",
    "<br/><br/>\n",
    "After this, MPO Simulation (deprecated soon)\n",
    "<br/><br/>\n",
    "<br/><br/>\n",
    "<br/><br/>\n",
    "<br/><br/>"
   ]
  },
  {
   "cell_type": "code",
   "execution_count": 9,
   "metadata": {},
   "outputs": [
    {
     "name": "stdout",
     "output_type": "stream",
     "text": [
      "==============================\n",
      "• Expected Value Knitting: 12.96961105\n",
      "• Expected Value Tensors:  12.96961111\n",
      "• Discrepancy            : 0.0%\n",
      "==============================\n",
      "\n"
     ]
    }
   ],
   "source": [
    "# Simulation using MPO\n",
    "basis_gates = [\"h\", \"rx\", \"ry\", \"rz\", \"rxx\",\"rzz\", \"ryy\", \"cx\"]\n",
    "cutoff = 1e-12\n",
    "maxdim = 10000\n",
    "method = \"densitymatrix\" #currently this is not used\n",
    "\n",
    "all_mpo_sequences, all_rhos = mpo_sequence_apply(circuits_data,basis_gates, cutoff, maxdim, method);\n",
    "\n",
    "# Does not seem like a very efficient way, the old one is better\n",
    "\n",
    "labels = keys(all_rhos)\n",
    "\n",
    "# Collect site indices for each label (we take generic state from all_psis)\n",
    "sites_per_label = Dict{String, Vector{Index{Int64}}}()\n",
    "for label in labels\n",
    "    sites_per_label[label] = Vector{Index{Int64}}()\n",
    "    for inds in siteinds(all_rhos[label][2])\n",
    "        push!(sites_per_label[label], inds[2])\n",
    "    end\n",
    "end\n",
    "\n",
    "\n",
    "# Generate union of sites\n",
    "sites_union = vcat(union(values(sites_per_label))...)\n",
    "\n",
    "function create_mpo(op_name::String, site::Int, sites::Vector{Index{Int64}})\n",
    "    os = OpSum()\n",
    "    add!(os, op_name, site)\n",
    "    return MPO(os, sites)\n",
    "end\n",
    "\n",
    "# Create the observable \n",
    "obs = sum([create_mpo(\"Z\", i, sites_union) for i in 1:length(sites_union)]) # ZII + IZI + IIZ\n",
    "# obs = [MPO(sites_AB, \"Z\")] # ZZZ\n",
    "\n",
    "function mpo_tensor_product(mpo_dict::Dict{String, MPO}, sites::Vector{Index{Int64}})\n",
    "    total_length = sum(length(mpo) for mpo in values(mpo_dict))\n",
    "    rho = MPO(sites)\n",
    "    current_index = 1\n",
    "    for label in keys(mpo_dict)\n",
    "        mpo = mpo_dict[label]\n",
    "        for i in 1:length(mpo)\n",
    "            rho[current_index] = mpo[i]\n",
    "            current_index += 1\n",
    "        end\n",
    "    end\n",
    "    return rho\n",
    "end\n",
    "\n",
    "# We reconstruct the expectation value (with MPO)\n",
    "# Tr[Oρ'] = ∑ₓⁿ Tr[Oᴀₓ ⊗ Oᵦₓ ρ'] = ∑ₓⁿ ∑ₖ₌₁ᴷ ∑ⱼₐ₌₁ᵐₐ ∑ⱼᵦ₌₁ᵐᵦ αₖ pᴀⱼₐ pᵦⱼᵦ ⟨Oᴀₓ⟩ₖ,ⱼₐ ⟨Oᵦₓ⟩ₖ,ⱼᵦ\n",
    "expval_tensors = 0.0\n",
    "\n",
    "for (k, coeff) in enumerate(coefficients)\n",
    "    temp = 0.0\n",
    "    mpo_dict = Dict{String, MPO}()\n",
    "    for label in labels\n",
    "        mpo_dict[label] = all_rhos[label][k]\n",
    "    end\n",
    "    rho = mpo_tensor_product(mpo_dict, sites_union)\n",
    "    expval_tensors += real(coeff * tr(apply(rho, obs)))\n",
    "end\n",
    "\n",
    "discrepancy = abs(round(100 * (expval_knitting - expval_tensors) / (expval_knitting), digits=4))\n",
    "\n",
    "println(\"\"\"\n",
    "==============================\n",
    "• Expected Value Knitting: $(round(expval_knitting, digits=8))\n",
    "• Expected Value Tensors:  $(round(expval_tensors, digits=8))\n",
    "• Discrepancy            : $discrepancy%\n",
    "==============================\n",
    "\"\"\")\n"
   ]
  }
 ],
 "metadata": {
  "kernelspec": {
   "display_name": "Julia 1.11.2",
   "language": "julia",
   "name": "julia-1.11"
  },
  "language_info": {
   "file_extension": ".jl",
   "mimetype": "application/julia",
   "name": "julia",
   "version": "1.11.2"
  }
 },
 "nbformat": 4,
 "nbformat_minor": 2
}
