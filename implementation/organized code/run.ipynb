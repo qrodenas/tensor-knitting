{
 "cells": [
  {
   "cell_type": "code",
   "execution_count": null,
   "metadata": {},
   "outputs": [],
   "source": [
    "# main.py\n",
    "\n",
    "\n",
    "from simulation import build_hamiltonian, cut_circuit, run_exact_sampler, reconstruct_expectation, trotterization_circuit\n",
    "from utils import circuit_data_dict, save_to_json\n",
    "\n",
    "from qiskit.transpiler import CouplingMap\n",
    "from qiskit.quantum_info import SparsePauliOp\n",
    "import numpy as np\n",
    "import matplotlib.pyplot as plt\n"
   ]
  },
  {
   "cell_type": "code",
   "execution_count": null,
   "metadata": {},
   "outputs": [
    {
     "name": "stdout",
     "output_type": "stream",
     "text": [
      "Subcircuits data has been successfully saved to 'subcircuits.json'.\n"
     ]
    }
   ],
   "source": [
    "def main(config):\n",
    "\n",
    "    # Define Copling map for qubits and total number of qubits\n",
    "    num_qubits = config.NUM_RINGS * config.NUM_SPINS\n",
    "    edges = config.EDGES\n",
    "    coupling_map = CouplingMap(edges)\n",
    "\n",
    "    # Build Hamiltonian\n",
    "    H = build_hamiltonian(\n",
    "        num_qubits=num_qubits,\n",
    "        coupling_map=coupling_map,\n",
    "        single_gates=config.SINGLE_GATES_LIST,\n",
    "        two_gates=config.TWO_GATES_LIST,\n",
    "        anisotropy=config.ANISOTROPY,\n",
    "        h=config.H_FIELD\n",
    "    )\n",
    "\n",
    "    #Obtain evolution circuit under TrotterLie approximation\n",
    "    evolutionQC = trotterization_circuit(hamiltonian = H, trotter_reps = config.TROTTER_REPS, dt = config.DT)\n",
    "\n",
    "    # Define Observables (for now Z on each site, ZII + IZI + IIZ)\n",
    "    z_list = [('Z', [i], 1.0) for i in range(num_qubits)]\n",
    "    z_observables = SparsePauliOp.from_sparse_list(z_list, num_qubits=num_qubits)\n",
    "\n",
    "    # Cut circuit and generate subexperiments\n",
    "    cutting_labels = config.NUM_SPINS * 'A' + config.NUM_SPINS * 'B' #Labels that mark the cutting point. \n",
    "    subexperiments, coefficients, subobservables = cut_circuit(\n",
    "        circuit=evolutionQC,\n",
    "        partition_labels=cutting_labels,\n",
    "        observables=z_observables,\n",
    "        num_samples=config.N_SAMPLES\n",
    "    )\n",
    "\n",
    "    # Run Simulations\n",
    "    results = run_exact_sampler(subexperiments)\n",
    "\n",
    "    # Reconstruct Expectation Values\n",
    "    reconstructed_expval = reconstruct_expectation(\n",
    "        results, coefficients, subobservables, z_observables\n",
    "    )\n",
    "\n",
    "    # Generate experiment and subcircuit data dictionary, and save to JSON\n",
    "    basis_gates = [\"h\", \"rx\", \"ry\", \"rz\", \"rxx\", \"rzz\", \"ryy\", \"cx\"]\n",
    "    data_dict = circuit_data_dict(subexperiments, coefficients, reconstructed_expval, basis_gates)\n",
    "    save_to_json(data_dict)\n",
    "\n",
    "class Config:\n",
    "    #Class containing the configuration parameters\n",
    "    def __init__(self):\n",
    "        # Hamiltonian parameters\n",
    "        self.NUM_SPINS = 12  # Number of qubits per ring\n",
    "        self.NUM_RINGS = 2  # Total number of rings \n",
    "        self.ANISOTROPY = 1.0\n",
    "        self.H_FIELD = 1.0\n",
    "       \n",
    "        # Gates in the Hamiltonian\n",
    "        self.TWO_GATES_LIST = ['XX']\n",
    "        self.SINGLE_GATES_LIST = ['Z']\n",
    "        \n",
    "        # Hamiltonian coupling map edges\n",
    "        self.EDGES = [\n",
    "            (ring * self.NUM_SPINS + i, ring * self.NUM_SPINS + (i + 1) % self.NUM_SPINS)\n",
    "            for ring in range(self.NUM_RINGS)\n",
    "            for i in range(self.NUM_SPINS)\n",
    "        ] + [(0, 2 * self.NUM_SPINS - 1)]  # The coupling map is unidirectional. Does this affect dynamics?\n",
    "\n",
    "        #Evolution parameters\n",
    "        self.TROTTER_REPS = 2\n",
    "        self.DT = 0.1  # Time parameter\n",
    "\n",
    "\n",
    "        # Sampling\n",
    "        self.N_SAMPLES = np.inf\n",
    "        # self.N_SAMPLES = 10**6\n",
    "\n",
    "\n",
    "\n",
    "if __name__ == \"__main__\":\n",
    "    \n",
    "    config = Config()\n",
    "\n",
    "    main(config)\n"
   ]
  },
  {
   "cell_type": "code",
   "execution_count": null,
   "metadata": {},
   "outputs": [],
   "source": []
  }
 ],
 "metadata": {
  "kernelspec": {
   "display_name": "Python 3",
   "language": "python",
   "name": "python3"
  },
  "language_info": {
   "codemirror_mode": {
    "name": "ipython",
    "version": 3
   },
   "file_extension": ".py",
   "mimetype": "text/x-python",
   "name": "python",
   "nbconvert_exporter": "python",
   "pygments_lexer": "ipython3",
   "version": "3.11.9"
  }
 },
 "nbformat": 4,
 "nbformat_minor": 2
}
