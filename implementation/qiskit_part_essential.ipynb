{
 "cells": [
  {
   "cell_type": "markdown",
   "metadata": {},
   "source": [
    "First we build the Hamiltonian we want in Qiskit"
   ]
  },
  {
   "cell_type": "code",
   "execution_count": 32,
   "metadata": {},
   "outputs": [],
   "source": [
    "from qiskit.circuit import QuantumCircuit, Parameter\n",
    "from qiskit.circuit.library import PauliEvolutionGate\n",
    "from qiskit.quantum_info import SparsePauliOp\n",
    "from qiskit_ibm_runtime import QiskitRuntimeService\n",
    "from qiskit.transpiler import CouplingMap\n",
    "from qiskit.transpiler.preset_passmanagers import generate_preset_pass_manager\n",
    "from qiskit.synthesis import LieTrotter\n",
    "from qiskit import transpile\n",
    "from qiskit_addon_cutting.utils.simulation import ExactSampler\n",
    "\n",
    "from qiskit_ibm_runtime.options import EstimatorOptions, DynamicalDecouplingOptions\n",
    "from qiskit_ibm_runtime import EstimatorV2, Batch, SamplerV2\n",
    "from qiskit_aer import AerSimulator\n",
    "from qiskit_ibm_runtime.fake_provider import FakeManilaV2\n",
    "from qiskit_addon_cutting import partition_problem, generate_cutting_experiments, reconstruct_expectation_values\n",
    "\n",
    "import numpy as np\n",
    "import json\n"
   ]
  },
  {
   "cell_type": "code",
   "execution_count": 33,
   "metadata": {},
   "outputs": [],
   "source": [
    "# Hamiltonian and evolution parameters\n",
    "\n",
    "num_spins = 6  # Number of qubits per ring\n",
    "num_rings = 2  # Total number of rings\n",
    "\n",
    "# Gates that appear in the hamiltonian\n",
    "two_gates_list = ['ZZ']\n",
    "single_gates_list = ['X']\n",
    "\n",
    "num_qubits = num_rings * num_spins\n",
    "anisotropy = 1.\n",
    "h = 1.\n",
    "dt = Parameter('δt')\n",
    "trotter_reps = 1\n",
    "dt = 0.1\n",
    "\n",
    "# Generate edges\n",
    "edges = [\n",
    "    (ring * num_spins + i, ring * num_spins + (i + 1) % num_spins)\n",
    "    for ring in range(num_rings)\n",
    "    for i in range(num_spins)\n",
    "]\n",
    "edges.append((0, 2*num_spins-1))\n",
    "\n",
    "coupling_map = CouplingMap(edges)"
   ]
  },
  {
   "cell_type": "code",
   "execution_count": 34,
   "metadata": {},
   "outputs": [],
   "source": [
    "def build_hamiltonian(num_spins, coupling_map, single_gates=['Z'], two_gates=['XX'], anisotropy=1, h=1): \n",
    "    edge_list = coupling_map.get_edges()\n",
    "    hamlist = []\n",
    "    for edge in edge_list:\n",
    "        for gate in two_gates:\n",
    "            hamlist.append((gate, edge, anisotropy))\n",
    "    for qubit in coupling_map.physical_qubits:\n",
    "        for gate in single_gates:\n",
    "            hamlist.append((gate, [qubit], h))\n",
    "    hamiltonian = SparsePauliOp.from_sparse_list(hamlist, num_qubits=num_spins)\n",
    "    return hamiltonian\n",
    "\n",
    "\n",
    "H = build_hamiltonian(num_qubits, coupling_map, single_gates_list, two_gates_list, anisotropy, h)\n",
    "\n",
    "trotterizator = LieTrotter(reps = trotter_reps, insert_barriers=False)\n",
    "U = PauliEvolutionGate(operator = H, time = dt)\n",
    "evolutionQC = trotterizator.synthesize(U)\n",
    "\n",
    "z_list = [('Z', [i], 1.) for i in range(num_qubits)]\n",
    "z_observables = SparsePauliOp.from_sparse_list(z_list, num_qubits = num_qubits)\n"
   ]
  },
  {
   "cell_type": "code",
   "execution_count": 35,
   "metadata": {},
   "outputs": [],
   "source": [
    "cutting_labels = num_spins * 'A' + num_spins * 'B'\n",
    "partitioned_problem = partition_problem(circuit = evolutionQC, partition_labels = cutting_labels, observables = z_observables.paulis)\n",
    "subcircuits = partitioned_problem.subcircuits\n",
    "subobservables = partitioned_problem.subobservables\n",
    "bases = partitioned_problem.bases\n",
    "\n",
    "subexperiments, coefficients = generate_cutting_experiments(circuits = subcircuits, observables = subobservables, num_samples = np.inf)\n",
    "\n",
    "exact_sampler = ExactSampler()\n",
    "\n",
    "results = {\n",
    "    label: exact_sampler.run(subexperiment).result()\n",
    "    for label, subexperiment in subexperiments.items()\n",
    "}\n",
    "\n",
    "reconstructed_expval_terms = reconstruct_expectation_values(results, coefficients, subobservables)\n",
    "reconstructed_expval = np.dot(reconstructed_expval_terms, z_observables.coeffs)\n"
   ]
  },
  {
   "cell_type": "code",
   "execution_count": 36,
   "metadata": {},
   "outputs": [
    {
     "name": "stdout",
     "output_type": "stream",
     "text": [
      "Subcircuits data has been successfully saved to 'subcircuits.json'.\n"
     ]
    }
   ],
   "source": [
    " \n",
    "basis_gates = [\"h\", \"rx\", \"ry\", \"rz\", \"rxx\", \"rzz\", \"ryy\", \"cnot\"]\n",
    "readable_data = []\n",
    "\n",
    "for category in sorted(subexperiments.keys()):\n",
    "    for index, circuit in enumerate(subexperiments[category]):\n",
    "        transpiled = transpile(circuit, basis_gates=basis_gates)\n",
    "        operations = []\n",
    "        qubit_range = [transpiled.qubits[0]._index, transpiled.qubits[-1]._index]\n",
    "        \n",
    "        for instr in transpiled.data:\n",
    "            name = instr.operation.name\n",
    "            angle = instr.operation.params\n",
    "            qubits = [q._index for q in instr.qubits]\n",
    "            \n",
    "            if name == 'measure' and (\n",
    "                not instr.clbits or\n",
    "                instr.clbits[0]._register.name != 'qpd_measurements'\n",
    "            ):\n",
    "                continue\n",
    "                \n",
    "            operations.append({\n",
    "                \"Name\": name,\n",
    "                \"Angle\": angle,\n",
    "                \"Qubits\": qubits\n",
    "            })\n",
    "        \n",
    "        readable_data.append({\n",
    "            \"Subexperiment\": category,\n",
    "            \"Subcircuit\": index,\n",
    "            \"Qubit number\": transpiled.num_qubits,\n",
    "            \"Qubit range\": qubit_range,\n",
    "            \"Operations\": operations\n",
    "        })\n",
    "\n",
    "\n",
    "coefficients_list = [coefficients[i][0] for i in range(len(coefficients))]\n",
    "\n",
    "output_dict = {\n",
    "    \"Expected value\": np.real(reconstructed_expval),\n",
    "    \"Coefficients\": coefficients_list,\n",
    "    \"Subcircuits\": readable_data\n",
    "}\n",
    "\n",
    "# Write the structured dictionary to a JSON file\n",
    "with open(\"subcircuits.json\", \"w\") as json_file:\n",
    "    json.dump(output_dict, json_file, indent=4)\n",
    "\n",
    "print(\"Subcircuits data has been successfully saved to 'subcircuits.json'.\")\n"
   ]
  }
 ],
 "metadata": {
  "kernelspec": {
   "display_name": "Python 3",
   "language": "python",
   "name": "python3"
  },
  "language_info": {
   "codemirror_mode": {
    "name": "ipython",
    "version": 3
   },
   "file_extension": ".py",
   "mimetype": "text/x-python",
   "name": "python",
   "nbconvert_exporter": "python",
   "pygments_lexer": "ipython3",
   "version": "3.11.9"
  }
 },
 "nbformat": 4,
 "nbformat_minor": 2
}
