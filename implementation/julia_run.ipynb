{
 "cells": [
  {
   "cell_type": "markdown",
   "metadata": {},
   "source": [
    "Now we parse the content of the JSON file with the QASM circuits"
   ]
  },
  {
   "cell_type": "code",
   "execution_count": 1,
   "metadata": {},
   "outputs": [],
   "source": [
    "using ITensors\n",
    "using IterTools\n",
    "\n",
    "include(\"simulation/mpo_simulation.jl\")\n",
    "using .MPOSimulation\n",
    "include(\"utils/utils.jl\")\n",
    "using .Utils\n",
    "include(\"simulation/mps_simulation.jl\")\n",
    "using .MPSSimulation"
   ]
  },
  {
   "cell_type": "code",
   "execution_count": 2,
   "metadata": {},
   "outputs": [],
   "source": [
    "# Simulation using MPS\n",
    "json_filename = \"subcircuits.json\"  \n",
    "circuits_data, expval_knitting, coefficients = parse_subcircuits(json_filename);"
   ]
  },
  {
   "cell_type": "code",
   "execution_count": 10,
   "metadata": {},
   "outputs": [
    {
     "name": "stdout",
     "output_type": "stream",
     "text": [
      "Completed applying MPO sequence for subcircuit B1.\n",
      "Completed applying MPO sequence for subcircuit B2.\n",
      "Completed applying MPO sequence for subcircuit B3.\n",
      "Completed applying MPO sequence for subcircuit B4.\n",
      "Completed applying MPO sequence for subcircuit B5.\n",
      "Completed applying MPO sequence for subcircuit B6.\n"
     ]
    }
   ],
   "source": [
    "basis_gates = [\"h\", \"rx\", \"ry\", \"rz\", \"rxx\",\"rzz\", \"ryy\", \"cx\"]\n",
    "cutoff = 1e-12\n",
    "maxdim = 10000\n",
    "method = \"densitymatrix\" #currently this is not used\n",
    "\n",
    "all_mpo_sequences, all_psis= mpo_sequence_apply_mps(circuits_data,basis_gates, cutoff, maxdim, method);"
   ]
  },
  {
   "cell_type": "code",
   "execution_count": null,
   "metadata": {},
   "outputs": [
    {
     "name": "stdout",
     "output_type": "stream",
     "text": [
      "==============================\n",
      "• Expected Value Knitting: NaN\n",
      "• Expected Value Tensors:  4.90033289\n",
      "• Discrepancy            : NaN%\n",
      "==============================\n",
      "\n"
     ]
    }
   ],
   "source": [
    "labels = keys(all_psis)\n",
    "\n",
    "# Collect site indices for each label (we take generic state from all_psis)\n",
    "sites_per_label = Dict{String, Vector{Index{Int64}}}()\n",
    "for label in labels\n",
    "    sites_per_label[label] = siteinds(all_psis[label][1][1][1])\n",
    "end\n",
    "# Generate union of sites\n",
    "sites_union = vcat(union(values(sites_per_label))...)\n",
    "\n",
    "function create_mpo(op_name::String, site::Int, sites::Vector{Index{Int64}})\n",
    "    os = OpSum()\n",
    "    add!(os, op_name, site)\n",
    "    return MPO(os, sites)\n",
    "end\n",
    "\n",
    "# Create the observable \n",
    "obs = sum([create_mpo(\"Z\", i, sites_union) for i in 1:length(sites_union)]) # ZII + IZI + IIZ\n",
    "# obs = [MPO(sites_union, \"Z\")] # ZZZ\n",
    "\n",
    "function compute_expval(psi::MPS, observable::MPO)\n",
    "    # Compute ⟨psi| O |psi⟩\n",
    "    expval = ITensor(1.0)\n",
    "    for n in 1:length(psi)\n",
    "        expval *= psi[n]\n",
    "        expval *= observable[n]\n",
    "        expval *= prime(dag(psi[n]))\n",
    "    end\n",
    "    return real(expval[1])\n",
    "end\n",
    "\n",
    "# Faster tensor product\n",
    "function mps_tensor_product(mps_dict::Dict{String, MPS}, sites::Vector{Index{Int64}})\n",
    "    total_length = sum(length(mps) for mps in values(mps_dict))\n",
    "    psi = MPS(sites, \"0\")\n",
    "    current_index = 1\n",
    "    for label in keys(mps_dict)\n",
    "        mps = mps_dict[label]\n",
    "        for i in 1:length(mps)\n",
    "            psi[current_index] = mps[i]\n",
    "            current_index += 1\n",
    "        end\n",
    "    end\n",
    "    return psi\n",
    "end\n",
    "\n",
    "\n",
    "# We reconstruct the expectation value (with MPS)\n",
    "# Tr[Oρ'] = ∑ₓⁿ Tr[Oᴀₓ ⊗ Oᵦₓ ρ'] = ∑ₓⁿ ∑ₖ₌₁ᴷ ∑ⱼₐ₌₁ᵐₐ ∑ⱼᵦ₌₁ᵐᵦ αₖ pᴀⱼₐ pᵦⱼᵦ ⟨Oᴀₓ⟩ₖ,ⱼₐ ⟨Oᵦₓ⟩ₖ,ⱼᵦ\n",
    "expval_tensors = 0.0\n",
    "for (k, coeff) in enumerate(coefficients)\n",
    "    temp = 0.0\n",
    "\n",
    "    combinations = IterTools.product([all_psis[label][k] for label in labels]...)    \n",
    "    for combination in combinations\n",
    "        mps_dict = Dict{String, MPS}()\n",
    "        prob = 1.0\n",
    "        for (idx, label) in enumerate(labels)\n",
    "            psi_label, p_label = combination[idx]\n",
    "            mps_dict[label] = psi_label\n",
    "            prob *= p_label\n",
    "        end\n",
    "        psi = mps_tensor_product(mps_dict, sites_union)\n",
    "        temp += prob * compute_expval(psi, obs)\n",
    "    end\n",
    "    expval_tensors += coeff * temp\n",
    "end\n",
    "\n",
    "discrepancy = abs(round(100 * (expval_knitting - expval_tensors) / expval_knitting, digits=4))\n",
    "\n",
    "println(\"\"\"\n",
    "==============================\n",
    "• Expected Value Knitting: $(round(expval_knitting, digits=8))\n",
    "• Expected Value Tensors:  $(round(expval_tensors, digits=8))\n",
    "• Discrepancy            : $discrepancy%\n",
    "==============================\n",
    "\"\"\")\n"
   ]
  },
  {
   "cell_type": "code",
   "execution_count": 15,
   "metadata": {},
   "outputs": [
    {
     "name": "stdout",
     "output_type": "stream",
     "text": [
      "==============================\n",
      "• Number of (coef, temp) pairs: 6\n",
      "• Sample Pairs: Any[(0.9919218463940607, 4.900332889206196), (0.08951478671291206, 4.900332889206195), (-0.08951478671291206, 4.9003328892061955), (0.08951478671291206, 4.9003328892061875), (-0.08951478671291206, 4.9003328892061875)]  # Adjust as needed\n",
      "==============================\n",
      "\n"
     ]
    }
   ],
   "source": [
    "# Initialize an empty list to store (coef, temp) pairs\n",
    "coef_temp_pairs = []\n",
    "\n",
    "for (k, coeff) in enumerate(coefficients)\n",
    "    temp = 0.0\n",
    "    combinations = IterTools.product([all_psis[label][k] for label in labels]...)\n",
    "    \n",
    "    for combination in combinations\n",
    "        mps_dict = Dict{String, MPS}()\n",
    "        prob = 1.0\n",
    "        for (idx, label) in enumerate(labels)\n",
    "            psi_label, p_label = combination[idx]\n",
    "            mps_dict[label] = psi_label\n",
    "            prob *= p_label\n",
    "        end\n",
    "        psi = mps_tensor_product(mps_dict, sites_union)\n",
    "        temp += prob * compute_expval(psi, obs)\n",
    "    end\n",
    "    push!(coef_temp_pairs, (coeff, temp))\n",
    "end\n",
    "\n",
    "println(\"\"\"\n",
    "==============================\n",
    "• Number of (coef, temp) pairs: $(length(coef_temp_pairs))\n",
    "• Sample Pairs: $(first(coef_temp_pairs, 5))  # Adjust as needed\n",
    "==============================\n",
    "\"\"\")\n"
   ]
  },
  {
   "cell_type": "code",
   "execution_count": 14,
   "metadata": {},
   "outputs": [
    {
     "name": "stdout",
     "output_type": "stream",
     "text": [
      "Completed applying MPO sequence for subcircuit B1.\n",
      "Completed applying MPO sequence for subcircuit B2.\n",
      "Completed applying MPO sequence for subcircuit B3.\n",
      "Completed applying MPO sequence for subcircuit B4.\n",
      "Completed applying MPO sequence for subcircuit B5.\n",
      "Completed applying MPO sequence for subcircuit B6.\n"
     ]
    }
   ],
   "source": [
    "# Simulation using MPO\n",
    "basis_gates = [\"h\", \"rx\", \"ry\", \"rz\", \"rxx\",\"rzz\", \"ryy\", \"cx\"]\n",
    "cutoff = 1e-12\n",
    "maxdim = 10000\n",
    "method = \"densitymatrix\" #currently this is not used\n",
    "\n",
    "all_mpo_sequences, all_rhos = mpo_sequence_apply(circuits_data,basis_gates, cutoff, maxdim, method);"
   ]
  },
  {
   "cell_type": "code",
   "execution_count": 6,
   "metadata": {},
   "outputs": [
    {
     "name": "stdout",
     "output_type": "stream",
     "text": [
      "==============================\n",
      "• Expected Value Knitting: NaN\n",
      "• Expected Value Tensors:  4.90033289\n",
      "• Discrepancy            : NaN%\n",
      "==============================\n",
      "\n"
     ]
    }
   ],
   "source": [
    "# Does not seem like a very efficient way, the old one is better\n",
    "\n",
    "labels = keys(all_rhos)\n",
    "\n",
    "# Collect site indices for each label (we take generic state from all_psis)\n",
    "sites_per_label = Dict{String, Vector{Index{Int64}}}()\n",
    "for label in labels\n",
    "    sites_per_label[label] = Vector{Index{Int64}}()\n",
    "    for inds in siteinds(all_rhos[label][2])\n",
    "        push!(sites_per_label[label], inds[2])\n",
    "    end\n",
    "end\n",
    "\n",
    "\n",
    "# Generate union of sites\n",
    "sites_union = vcat(union(values(sites_per_label))...)\n",
    "\n",
    "function create_mpo(op_name::String, site::Int, sites::Vector{Index{Int64}})\n",
    "    os = OpSum()\n",
    "    add!(os, op_name, site)\n",
    "    return MPO(os, sites)\n",
    "end\n",
    "\n",
    "# Create the observable \n",
    "obs = sum([create_mpo(\"Z\", i, sites_union) for i in 1:length(sites_union)]) # ZII + IZI + IIZ\n",
    "# obs = [MPO(sites_AB, \"Z\")] # ZZZ\n",
    "\n",
    "function mpo_tensor_product(mpo_dict::Dict{String, MPO}, sites::Vector{Index{Int64}})\n",
    "    total_length = sum(length(mpo) for mpo in values(mpo_dict))\n",
    "    rho = MPO(sites)\n",
    "    current_index = 1\n",
    "    for label in keys(mpo_dict)\n",
    "        mpo = mpo_dict[label]\n",
    "        for i in 1:length(mpo)\n",
    "            rho[current_index] = mpo[i]\n",
    "            current_index += 1\n",
    "        end\n",
    "    end\n",
    "    return rho\n",
    "end\n",
    "\n",
    "# We reconstruct the expectation value (with MPO)\n",
    "# Tr[Oρ'] = ∑ₓⁿ Tr[Oᴀₓ ⊗ Oᵦₓ ρ'] = ∑ₓⁿ ∑ₖ₌₁ᴷ ∑ⱼₐ₌₁ᵐₐ ∑ⱼᵦ₌₁ᵐᵦ αₖ pᴀⱼₐ pᵦⱼᵦ ⟨Oᴀₓ⟩ₖ,ⱼₐ ⟨Oᵦₓ⟩ₖ,ⱼᵦ\n",
    "expval_tensors = 0.0\n",
    "\n",
    "for (k, coeff) in enumerate(coefficients)\n",
    "    temp = 0.0\n",
    "    mpo_dict = Dict{String, MPO}()\n",
    "    for label in labels\n",
    "        mpo_dict[label] = all_rhos[label][k]\n",
    "    end\n",
    "    rho = mpo_tensor_product(mpo_dict, sites_union)\n",
    "    expval_tensors += real(coeff * tr(apply(rho, obs)))\n",
    "end\n",
    "\n",
    "discrepancy = abs(round(100 * (expval_knitting - expval_tensors) / (expval_knitting), digits=4))\n",
    "\n",
    "println(\"\"\"\n",
    "==============================\n",
    "• Expected Value Knitting: $(round(expval_knitting, digits=8))\n",
    "• Expected Value Tensors:  $(round(expval_tensors, digits=8))\n",
    "• Discrepancy            : $discrepancy%\n",
    "==============================\n",
    "\"\"\")\n"
   ]
  }
 ],
 "metadata": {
  "kernelspec": {
   "display_name": "Julia 1.10.5",
   "language": "julia",
   "name": "julia-1.10"
  },
  "language_info": {
   "file_extension": ".jl",
   "mimetype": "application/julia",
   "name": "julia",
   "version": "1.10.5"
  }
 },
 "nbformat": 4,
 "nbformat_minor": 2
}
