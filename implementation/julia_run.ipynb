{
 "cells": [
  {
   "cell_type": "markdown",
   "metadata": {},
   "source": [
    "Now we parse the content of the JSON file with the QASM circuits"
   ]
  },
  {
   "cell_type": "code",
   "execution_count": 1,
   "metadata": {},
   "outputs": [],
   "source": [
    "using ITensors\n",
    "\n",
    "include(\"simulation/mpo_simulation.jl\")\n",
    "using .MPOSimulation\n",
    "include(\"utils/utils.jl\")\n",
    "using .Utils\n",
    "include(\"simulation/mps_simulation.jl\")\n",
    "using .MPSSimulation\n",
    "\n"
   ]
  },
  {
   "cell_type": "code",
   "execution_count": 61,
   "metadata": {},
   "outputs": [
    {
     "name": "stdout",
     "output_type": "stream",
     "text": [
      "Completed applying MPO sequence for subcircuit B1.\n",
      "Completed applying MPO sequence for subcircuit B2.\n",
      "Completed applying MPO sequence for subcircuit B3.\n",
      "Completed applying MPO sequence for subcircuit B4.\n",
      "Completed applying MPO sequence for subcircuit B5.\n",
      "Completed applying MPO sequence for subcircuit B6.\n",
      "Completed applying MPO sequence for subcircuit B7.\n",
      "Completed applying MPO sequence for subcircuit B8.\n",
      "Completed applying MPO sequence for subcircuit B9.\n",
      "Completed applying MPO sequence for subcircuit B10.\n",
      "Completed applying MPO sequence for subcircuit B11.\n",
      "Completed applying MPO sequence for subcircuit B12.\n",
      "Completed applying MPO sequence for subcircuit B13.\n",
      "Completed applying MPO sequence for subcircuit B14.\n",
      "Completed applying MPO sequence for subcircuit B15.\n",
      "Completed applying MPO sequence for subcircuit B16.\n",
      "Completed applying MPO sequence for subcircuit B17.\n",
      "Completed applying MPO sequence for subcircuit B18.\n",
      "Completed applying MPO sequence for subcircuit B19.\n",
      "Completed applying MPO sequence for subcircuit B20.\n",
      "Completed applying MPO sequence for subcircuit B21.\n",
      "Completed applying MPO sequence for subcircuit B22.\n",
      "Completed applying MPO sequence for subcircuit B23.\n",
      "Completed applying MPO sequence for subcircuit B24.\n",
      "Completed applying MPO sequence for subcircuit B25.\n",
      "Completed applying MPO sequence for subcircuit B26.\n",
      "Completed applying MPO sequence for subcircuit B27.\n",
      "Completed applying MPO sequence for subcircuit B28.\n",
      "Completed applying MPO sequence for subcircuit B29.\n",
      "Completed applying MPO sequence for subcircuit B30.\n",
      "Completed applying MPO sequence for subcircuit B31.\n",
      "Completed applying MPO sequence for subcircuit B32.\n",
      "Completed applying MPO sequence for subcircuit B33.\n",
      "Completed applying MPO sequence for subcircuit B34.\n",
      "Completed applying MPO sequence for subcircuit B35.\n",
      "Completed applying MPO sequence for subcircuit B36.\n",
      "Completed applying MPO sequence for subcircuit A1.\n",
      "Completed applying MPO sequence for subcircuit A2.\n",
      "Completed applying MPO sequence for subcircuit A3.\n",
      "Completed applying MPO sequence for subcircuit A4.\n",
      "Completed applying MPO sequence for subcircuit A5.\n",
      "Completed applying MPO sequence for subcircuit A6.\n",
      "Completed applying MPO sequence for subcircuit A7.\n",
      "Completed applying MPO sequence for subcircuit A8.\n",
      "Completed applying MPO sequence for subcircuit A9.\n",
      "Completed applying MPO sequence for subcircuit A10.\n",
      "Completed applying MPO sequence for subcircuit A11.\n",
      "Completed applying MPO sequence for subcircuit A12.\n",
      "Completed applying MPO sequence for subcircuit A13.\n",
      "Completed applying MPO sequence for subcircuit A14.\n",
      "Completed applying MPO sequence for subcircuit A15.\n",
      "Completed applying MPO sequence for subcircuit A16.\n",
      "Completed applying MPO sequence for subcircuit A17.\n",
      "Completed applying MPO sequence for subcircuit A18.\n",
      "Completed applying MPO sequence for subcircuit A19.\n",
      "Completed applying MPO sequence for subcircuit A20.\n",
      "Completed applying MPO sequence for subcircuit A21.\n",
      "Completed applying MPO sequence for subcircuit A22.\n",
      "Completed applying MPO sequence for subcircuit A23.\n",
      "Completed applying MPO sequence for subcircuit A24.\n",
      "Completed applying MPO sequence for subcircuit A25.\n",
      "Completed applying MPO sequence for subcircuit A26.\n",
      "Completed applying MPO sequence for subcircuit A27.\n",
      "Completed applying MPO sequence for subcircuit A28.\n",
      "Completed applying MPO sequence for subcircuit A29.\n",
      "Completed applying MPO sequence for subcircuit A30.\n",
      "Completed applying MPO sequence for subcircuit A31.\n",
      "Completed applying MPO sequence for subcircuit A32.\n",
      "Completed applying MPO sequence for subcircuit A33.\n",
      "Completed applying MPO sequence for subcircuit A34.\n",
      "Completed applying MPO sequence for subcircuit A35.\n",
      "Completed applying MPO sequence for subcircuit A36.\n"
     ]
    }
   ],
   "source": [
    "# Simulation using MPS\n",
    "json_filename = \"subcircuits.json\"  \n",
    "circuits_data, expval_knitting, coefficients = parse_subcircuits(json_filename);\n",
    "\n",
    "basis_gates = [\"h\", \"rx\", \"ry\", \"rz\", \"rxx\",\"rzz\", \"ryy\", \"cx\"]\n",
    "cutoff = 1e-12\n",
    "maxdim = 10000\n",
    "method = \"densitymatrix\" #currently this is not used\n",
    "\n",
    "all_mpo_sequences, all_psis, observables = mpo_sequence_apply_mps(circuits_data,basis_gates, cutoff, maxdim, method);"
   ]
  },
  {
   "cell_type": "code",
   "execution_count": 53,
   "metadata": {},
   "outputs": [
    {
     "name": "stdout",
     "output_type": "stream",
     "text": [
      "==============================\n",
      "• Expected Value Knitting: 19.18054219\n",
      "• Expected Value Tensors:  19.18025228\n",
      "• Discrepancy            : 0.0015%\n",
      "==============================\n",
      "\n"
     ]
    }
   ],
   "source": [
    "expval_tensors = 0.0\n",
    "observable_keys = collect(keys(observables))\n",
    "first_key = observable_keys[1]\n",
    "num_observables = length(observables[first_key])\n",
    "\n",
    "for (i, coeff) in enumerate(coefficients)\n",
    "    expval_tensors += coeff * sum(prod(sum(prob * inner(psi, apply(observables[key][j], psi)) for (psi, prob) in all_psis[key][i]) for key in observable_keys) for j in 1:num_observables)\n",
    "end\n",
    "\n",
    "expval_tensors = real(expval_tensors)\n",
    "discrepancy = abs(round(100 * (expval_knitting - expval_tensors) / expval_knitting, digits=4))\n",
    "\n",
    "println(\"\"\"\n",
    "==============================\n",
    "• Expected Value Knitting: $(round(expval_knitting, digits=8))\n",
    "• Expected Value Tensors:  $(round(expval_tensors, digits=8))\n",
    "• Discrepancy            : $discrepancy%\n",
    "==============================\n",
    "\"\"\")\n"
   ]
  },
  {
   "cell_type": "code",
   "execution_count": 60,
   "metadata": {},
   "outputs": [
    {
     "name": "stdout",
     "output_type": "stream",
     "text": [
      "Completed applying MPO sequence for subcircuit B1.\n",
      "Completed applying MPO sequence for subcircuit B2.\n",
      "Completed applying MPO sequence for subcircuit B3.\n",
      "Completed applying MPO sequence for subcircuit B4.\n",
      "Completed applying MPO sequence for subcircuit B5.\n",
      "Completed applying MPO sequence for subcircuit B6.\n",
      "Completed applying MPO sequence for subcircuit A1.\n",
      "Completed applying MPO sequence for subcircuit A2.\n",
      "Completed applying MPO sequence for subcircuit A3.\n",
      "Completed applying MPO sequence for subcircuit A4.\n",
      "Completed applying MPO sequence for subcircuit A5.\n",
      "Completed applying MPO sequence for subcircuit A6.\n"
     ]
    }
   ],
   "source": [
    "json_filename = \"subcircuits.json\"  \n",
    "circuits_data, expval_knitting, coefficients = parse_subcircuits(json_filename);\n",
    "\n",
    "basis_gates = [\"h\", \"rx\", \"ry\", \"rz\", \"rxx\",\"rzz\", \"ryy\", \"cx\"]\n",
    "cutoff = 1e-12\n",
    "maxdim = 10000\n",
    "method = \"densitymatrix\" #currently this is not used\n",
    "\n",
    "all_mpo_sequences, all_rhos, observables = mpo_sequence_apply(circuits_data,basis_gates, cutoff, maxdim, method);"
   ]
  },
  {
   "cell_type": "code",
   "execution_count": 57,
   "metadata": {},
   "outputs": [
    {
     "name": "stdout",
     "output_type": "stream",
     "text": [
      "==============================\n",
      "• Expected Value Knitting: 23.02423374\n",
      "• Expected Value Tensors:  23.02423349\n",
      "• Discrepancy    : 0.0%\n",
      "==============================\n",
      "\n"
     ]
    }
   ],
   "source": [
    "expval_tensors = real(sum(coefficients[i] * (sum((inner(observables[\"A\"][j],all_rhos[\"A\"][i]) * inner(observables[\"B\"][j],all_rhos[\"B\"][i])) for j in 1:length(observables[\"A\"]))) for i in 1:length(coefficients)))\n",
    "\n",
    "discrepancy = abs(round(100*(expval_knitting - expval_tensors)/expval_knitting, digits = 4))\n",
    "\n",
    "println(\"\"\"\n",
    "==============================\n",
    "• Expected Value Knitting: $(round(expval_knitting, digits = 8))\n",
    "• Expected Value Tensors:  $(round(expval_tensors, digits = 8))\n",
    "• Discrepancy    : $discrepancy%\n",
    "==============================\n",
    "\"\"\")\n"
   ]
  },
  {
   "cell_type": "code",
   "execution_count": null,
   "metadata": {},
   "outputs": [
    {
     "name": "stdout",
     "output_type": "stream",
     "text": [
      "\n",
      "    ==============================\n",
      "    • Expected Value Knitting: 15.33019463\n",
      "    • Expected Value Tensors:  15.03390918\n",
      "    • Discrepancy    : 1.9327%\n",
      "    • Max bound dimension  : 10\n",
      "    • Elapsed Time : 2.95 seconds\n",
      "    ==============================\n",
      "    \n",
      "\n",
      "    ==============================\n",
      "    • Expected Value Knitting: 15.33019463\n",
      "    • Expected Value Tensors:  15.32272587\n",
      "    • Discrepancy    : 0.0487%\n",
      "    • Max bound dimension  : 14\n",
      "    • Elapsed Time : 4.63 seconds\n",
      "    ==============================\n",
      "    \n",
      "\n",
      "    ==============================\n",
      "    • Expected Value Knitting: 15.33019463\n",
      "    • Expected Value Tensors:  15.33019463\n",
      "    • Discrepancy    : 0.0%\n",
      "    • Max bound dimension  : 18\n",
      "    • Elapsed Time : 3.27 seconds\n",
      "    ==============================\n",
      "    \n",
      "\n",
      "    ==============================\n",
      "    • Expected Value Knitting: 15.33019463\n",
      "    • Expected Value Tensors:  15.33019463\n",
      "    • Discrepancy    : 0.0%\n",
      "    • Max bound dimension  : 22\n",
      "    • Elapsed Time : 3.45 seconds\n",
      "    ==============================\n",
      "    \n",
      "\n",
      "    ==============================\n",
      "    • Expected Value Knitting: 15.33019463\n",
      "    • Expected Value Tensors:  15.33019463\n",
      "    • Discrepancy    : 0.0%\n",
      "    • Max bound dimension  : 26\n",
      "    • Elapsed Time : 3.05 seconds\n",
      "    ==============================\n",
      "    \n",
      "\n",
      "    ==============================\n",
      "    • Expected Value Knitting: 15.33019463\n",
      "    • Expected Value Tensors:  15.33019463\n",
      "    • Discrepancy    : 0.0%\n",
      "    • Max bound dimension  : 30\n",
      "    • Elapsed Time : 2.82 seconds\n",
      "    ==============================\n",
      "    \n"
     ]
    }
   ],
   "source": [
    "# Time of simulation with different bound dimensions\n",
    "\n",
    "basis_gates = [\"h\", \"rx\", \"ry\", \"rz\", \"rxx\", \"rzz\", \"ryy\", \"cx\"]\n",
    "cutoff = 1e-12\n",
    "maxdims = 10:4:30\n",
    "\n",
    "for maxdim in maxdims\n",
    "    elapsed_time = @elapsed begin\n",
    "        all_mpo_sequences, all_rhos, observables = redirect_stdout(devnull) do\n",
    "            mpo_sequence_apply(circuits_data, basis_gates, cutoff, maxdim, method)\n",
    "        end\n",
    "\n",
    "        expval_tensors = real(sum(coefficients[i] * sum(inner(observables[\"A\"][j], all_rhos[\"A\"][i]) * inner(observables[\"B\"][j], all_rhos[\"B\"][i]) for j in 1:length(observables[\"A\"])) for i in 1:length(coefficients)))\n",
    "        discrepancy = abs(round(100 * (expval_knitting - expval_tensors) / expval_knitting, digits = 4))\n",
    "    end\n",
    "\n",
    "    println(\"\n",
    "    ==============================\n",
    "    • Expected Value Knitting: $(round(expval_knitting, digits = 8))\n",
    "    • Expected Value Tensors:  $(round(expval_tensors, digits = 8))\n",
    "    • Discrepancy    : $discrepancy%\n",
    "    • Max bound dimension  : $maxdim\n",
    "    • Elapsed Time : $(round(elapsed_time, digits=2)) seconds\n",
    "    ==============================\n",
    "    \")\n",
    "end\n"
   ]
  }
 ],
 "metadata": {
  "kernelspec": {
   "display_name": "Julia 1.10.5",
   "language": "julia",
   "name": "julia-1.10"
  },
  "language_info": {
   "file_extension": ".jl",
   "mimetype": "application/julia",
   "name": "julia",
   "version": "1.10.5"
  }
 },
 "nbformat": 4,
 "nbformat_minor": 2
}
