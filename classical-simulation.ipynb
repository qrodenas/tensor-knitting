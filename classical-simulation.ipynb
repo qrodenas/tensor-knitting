{
 "cells": [
  {
   "cell_type": "markdown",
   "metadata": {},
   "source": [
    "We are going to simulate the cutting of an RXX gate classically"
   ]
  },
  {
   "cell_type": "markdown",
   "metadata": {},
   "source": [
    "To define the qubits we need 2x2 density matrices"
   ]
  },
  {
   "cell_type": "code",
   "execution_count": 1,
   "metadata": {},
   "outputs": [],
   "source": [
    "import numpy as np\n",
    "import scipy"
   ]
  },
  {
   "cell_type": "code",
   "execution_count": 2,
   "metadata": {},
   "outputs": [],
   "source": [
    "#Basic definitions\n",
    "ket0 = np.array([[1],[0]], dtype = complex)\n",
    "ket1 = np.array([[0],[1]], dtype = complex)\n",
    "ketplus = (1/np.sqrt(2))*(ket0+ket1)\n",
    "ketminus = (1/np.sqrt(2))*(ket0+ket1)\n",
    "\n",
    "X = np.array([[0,1],[1,0]])\n",
    "S = np.array([[1,0],[0,1j]])\n",
    "Z = np.array([[1,0],[0,-1]])\n",
    "H = (1/np.sqrt(2))*np.array([[1,1],[1,-1]])"
   ]
  },
  {
   "cell_type": "code",
   "execution_count": 6,
   "metadata": {},
   "outputs": [],
   "source": [
    "a00,a01,a10,a11 = 1,0,0,0\n",
    "b00,b01,b10,b11 = 0,0,0,1\n",
    "theta  = 0.3*np.pi\n",
    "rhoA = a00 * ket0 @ ket0.conj().T + a01 * ket0 @ ket1.conj().T + a10 * ket1 @ ket0.conj().T + a11 * ket1 @ ket1.conj().T\n",
    "rhoB = b00 * ket0 @ ket0.conj().T + b01 * ket0 @ ket1.conj().T + b10 * ket1 @ ket0.conj().T + b11 * ket1 @ ket1.conj().T"
   ]
  },
  {
   "cell_type": "code",
   "execution_count": 7,
   "metadata": {},
   "outputs": [],
   "source": [
    "def rxx_channel(rho1, rho2, theta):\n",
    "     \n",
    "    identity = np.kron(rho1,rho2)\n",
    "    Xchannel = np.kron(X @ rho1 @ X, X @ rho2 @ X)\n",
    "    p1p = ketplus.conj().T @ rho1 @ ketplus # Projection of qubit 1 on state +\n",
    "    m1m = ketminus.conj().T @ rho1 @ ketminus\n",
    "    p2p = ketplus.conj().T @ rho2 @ ketplus # Projection of qubit 1 on state +\n",
    "    m2m = ketminus.conj().T @ rho2 @ ketminus\n",
    "    S1Sd = S @ rho1 @ S.conj().T\n",
    "    S2Sd = S @ rho2 @ S.conj().T \n",
    "\n",
    "    channel = np.cos(theta/2)**2 * identity + np.sin(theta/2)**2 * Xchannel\n",
    "    channel = channel + (1/2)*np.sin(theta)*(p1p*np.kron(ketplus @ ketplus.conj().T, S2Sd.conj().T) + p2p*np.kron(S1Sd.conj().T, ketplus @ ketplus.conj().T))\n",
    "    channel = channel + (1/2)*np.sin(theta)*(-p1p*np.kron(ketplus @ ketplus.conj().T, S2Sd) - p2p*np.kron(S1Sd, ketplus @ ketplus.conj().T))\n",
    "    channel = channel + (1/2)*np.sin(theta)*(-m1m*np.kron(ketminus @ ketminus.conj().T, S2Sd.conj().T) - m2m*np.kron(S1Sd.conj().T, ketminus @ ketminus.conj().T))\n",
    "    channel = channel + (1/2)*np.sin(theta)*(m1m*np.kron(ketminus @ ketminus.conj().T, S2Sd) + m2m*np.kron(S1Sd, ketminus @ ketminus.conj().T))\n",
    "    return channel\n",
    "\n",
    "def ZZ_measurement(rho):\n",
    "    ZZ = np.kron(Z,Z)\n",
    "    expected_val = np.trace(ZZ @ rho)\n",
    "    return expected_val"
   ]
  },
  {
   "cell_type": "code",
   "execution_count": 8,
   "metadata": {},
   "outputs": [
    {
     "name": "stdout",
     "output_type": "stream",
     "text": [
      "-1.0\n"
     ]
    }
   ],
   "source": [
    "rho_channel = rxx_channel(rhoA,rhoB,theta)\n",
    "ZZ_meas = ZZ_measurement(rho_channel)\n",
    "print(np.real(ZZ_meas))"
   ]
  },
  {
   "cell_type": "code",
   "execution_count": null,
   "metadata": {},
   "outputs": [],
   "source": []
  }
 ],
 "metadata": {
  "kernelspec": {
   "display_name": "Python 3",
   "language": "python",
   "name": "python3"
  },
  "language_info": {
   "codemirror_mode": {
    "name": "ipython",
    "version": 3
   },
   "file_extension": ".py",
   "mimetype": "text/x-python",
   "name": "python",
   "nbconvert_exporter": "python",
   "pygments_lexer": "ipython3",
   "version": "3.10.5"
  }
 },
 "nbformat": 4,
 "nbformat_minor": 2
}
